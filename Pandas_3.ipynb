{
 "cells": [
  {
   "cell_type": "code",
   "execution_count": 1,
   "id": "aa897733",
   "metadata": {},
   "outputs": [],
   "source": [
    "import pandas as pd"
   ]
  },
  {
   "cell_type": "code",
   "execution_count": 2,
   "id": "2ed7a395",
   "metadata": {},
   "outputs": [
    {
     "data": {
      "text/html": [
       "<div>\n",
       "<style scoped>\n",
       "    .dataframe tbody tr th:only-of-type {\n",
       "        vertical-align: middle;\n",
       "    }\n",
       "\n",
       "    .dataframe tbody tr th {\n",
       "        vertical-align: top;\n",
       "    }\n",
       "\n",
       "    .dataframe thead th {\n",
       "        text-align: right;\n",
       "    }\n",
       "</style>\n",
       "<table border=\"1\" class=\"dataframe\">\n",
       "  <thead>\n",
       "    <tr style=\"text-align: right;\">\n",
       "      <th></th>\n",
       "      <th>Name</th>\n",
       "      <th>Place</th>\n",
       "      <th>Post</th>\n",
       "      <th>Salary</th>\n",
       "      <th>Age</th>\n",
       "      <th>Gender</th>\n",
       "    </tr>\n",
       "  </thead>\n",
       "  <tbody>\n",
       "    <tr>\n",
       "      <th>0</th>\n",
       "      <td>Abhishek Ingulkaar</td>\n",
       "      <td>Pune</td>\n",
       "      <td>DS</td>\n",
       "      <td>345000</td>\n",
       "      <td>25</td>\n",
       "      <td>Male</td>\n",
       "    </tr>\n",
       "    <tr>\n",
       "      <th>1</th>\n",
       "      <td>Ashwini Gat</td>\n",
       "      <td>Ichalkaranji</td>\n",
       "      <td>Admin</td>\n",
       "      <td>45000</td>\n",
       "      <td>33</td>\n",
       "      <td>Female</td>\n",
       "    </tr>\n",
       "    <tr>\n",
       "      <th>2</th>\n",
       "      <td>Gaurav Desai</td>\n",
       "      <td>Pune</td>\n",
       "      <td>Tester</td>\n",
       "      <td>80000</td>\n",
       "      <td>28</td>\n",
       "      <td>Male</td>\n",
       "    </tr>\n",
       "    <tr>\n",
       "      <th>3</th>\n",
       "      <td>Milind Dhawale</td>\n",
       "      <td>Thane</td>\n",
       "      <td>DS</td>\n",
       "      <td>120000</td>\n",
       "      <td>23</td>\n",
       "      <td>Male</td>\n",
       "    </tr>\n",
       "    <tr>\n",
       "      <th>4</th>\n",
       "      <td>Prasad Ganthade</td>\n",
       "      <td>Belgaum</td>\n",
       "      <td>Manager</td>\n",
       "      <td>500000</td>\n",
       "      <td>29</td>\n",
       "      <td>Male</td>\n",
       "    </tr>\n",
       "    <tr>\n",
       "      <th>5</th>\n",
       "      <td>Sadia Desai</td>\n",
       "      <td>Dubai</td>\n",
       "      <td>SE</td>\n",
       "      <td>340000</td>\n",
       "      <td>31</td>\n",
       "      <td>Female</td>\n",
       "    </tr>\n",
       "    <tr>\n",
       "      <th>6</th>\n",
       "      <td>Shilvanti Kale</td>\n",
       "      <td>Sangli</td>\n",
       "      <td>SE</td>\n",
       "      <td>68000</td>\n",
       "      <td>23</td>\n",
       "      <td>Female</td>\n",
       "    </tr>\n",
       "    <tr>\n",
       "      <th>7</th>\n",
       "      <td>Reva Jagtap</td>\n",
       "      <td>Karad</td>\n",
       "      <td>DS</td>\n",
       "      <td>50000</td>\n",
       "      <td>28</td>\n",
       "      <td>Female</td>\n",
       "    </tr>\n",
       "  </tbody>\n",
       "</table>\n",
       "</div>"
      ],
      "text/plain": [
       "                 Name         Place     Post  Salary  Age  Gender\n",
       "0  Abhishek Ingulkaar          Pune       DS  345000   25    Male\n",
       "1         Ashwini Gat  Ichalkaranji    Admin   45000   33  Female\n",
       "2        Gaurav Desai          Pune   Tester   80000   28    Male\n",
       "3      Milind Dhawale         Thane       DS  120000   23    Male\n",
       "4     Prasad Ganthade       Belgaum  Manager  500000   29    Male\n",
       "5         Sadia Desai         Dubai       SE  340000   31  Female\n",
       "6      Shilvanti Kale        Sangli       SE   68000   23  Female\n",
       "7         Reva Jagtap         Karad       DS   50000   28  Female"
      ]
     },
     "execution_count": 2,
     "metadata": {},
     "output_type": "execute_result"
    }
   ],
   "source": [
    "df = pd.read_excel(r'C:\\Users\\hakim\\OneDrive\\Desktop\\batch_21.xlsx')\n",
    "df"
   ]
  },
  {
   "cell_type": "code",
   "execution_count": 4,
   "id": "fdf71390",
   "metadata": {},
   "outputs": [
    {
     "data": {
      "text/html": [
       "<div>\n",
       "<style scoped>\n",
       "    .dataframe tbody tr th:only-of-type {\n",
       "        vertical-align: middle;\n",
       "    }\n",
       "\n",
       "    .dataframe tbody tr th {\n",
       "        vertical-align: top;\n",
       "    }\n",
       "\n",
       "    .dataframe thead th {\n",
       "        text-align: right;\n",
       "    }\n",
       "</style>\n",
       "<table border=\"1\" class=\"dataframe\">\n",
       "  <thead>\n",
       "    <tr style=\"text-align: right;\">\n",
       "      <th></th>\n",
       "      <th>Name</th>\n",
       "      <th>Place</th>\n",
       "      <th>Post</th>\n",
       "      <th>Salary</th>\n",
       "      <th>Age</th>\n",
       "      <th>Gender</th>\n",
       "    </tr>\n",
       "  </thead>\n",
       "  <tbody>\n",
       "    <tr>\n",
       "      <th>0</th>\n",
       "      <td>Abhishek Ingulkaar</td>\n",
       "      <td>Pune</td>\n",
       "      <td>DS</td>\n",
       "      <td>345000</td>\n",
       "      <td>25</td>\n",
       "      <td>Male</td>\n",
       "    </tr>\n",
       "    <tr>\n",
       "      <th>3</th>\n",
       "      <td>Milind Dhawale</td>\n",
       "      <td>Thane</td>\n",
       "      <td>DS</td>\n",
       "      <td>120000</td>\n",
       "      <td>23</td>\n",
       "      <td>Male</td>\n",
       "    </tr>\n",
       "    <tr>\n",
       "      <th>7</th>\n",
       "      <td>Reva Jagtap</td>\n",
       "      <td>Karad</td>\n",
       "      <td>DS</td>\n",
       "      <td>50000</td>\n",
       "      <td>28</td>\n",
       "      <td>Female</td>\n",
       "    </tr>\n",
       "  </tbody>\n",
       "</table>\n",
       "</div>"
      ],
      "text/plain": [
       "                 Name  Place Post  Salary  Age  Gender\n",
       "0  Abhishek Ingulkaar   Pune   DS  345000   25    Male\n",
       "3      Milind Dhawale  Thane   DS  120000   23    Male\n",
       "7         Reva Jagtap  Karad   DS   50000   28  Female"
      ]
     },
     "execution_count": 4,
     "metadata": {},
     "output_type": "execute_result"
    }
   ],
   "source": [
    "# fetch records of DS\n",
    "df[df.Post == 'DS']"
   ]
  },
  {
   "cell_type": "code",
   "execution_count": 6,
   "id": "f915c6ef",
   "metadata": {},
   "outputs": [
    {
     "data": {
      "text/html": [
       "<div>\n",
       "<style scoped>\n",
       "    .dataframe tbody tr th:only-of-type {\n",
       "        vertical-align: middle;\n",
       "    }\n",
       "\n",
       "    .dataframe tbody tr th {\n",
       "        vertical-align: top;\n",
       "    }\n",
       "\n",
       "    .dataframe thead th {\n",
       "        text-align: right;\n",
       "    }\n",
       "</style>\n",
       "<table border=\"1\" class=\"dataframe\">\n",
       "  <thead>\n",
       "    <tr style=\"text-align: right;\">\n",
       "      <th></th>\n",
       "      <th>Name</th>\n",
       "      <th>Place</th>\n",
       "      <th>Post</th>\n",
       "      <th>Salary</th>\n",
       "      <th>Age</th>\n",
       "      <th>Gender</th>\n",
       "    </tr>\n",
       "  </thead>\n",
       "  <tbody>\n",
       "    <tr>\n",
       "      <th>7</th>\n",
       "      <td>Reva Jagtap</td>\n",
       "      <td>Karad</td>\n",
       "      <td>DS</td>\n",
       "      <td>50000</td>\n",
       "      <td>28</td>\n",
       "      <td>Female</td>\n",
       "    </tr>\n",
       "  </tbody>\n",
       "</table>\n",
       "</div>"
      ],
      "text/plain": [
       "          Name  Place Post  Salary  Age  Gender\n",
       "7  Reva Jagtap  Karad   DS   50000   28  Female"
      ]
     },
     "execution_count": 6,
     "metadata": {},
     "output_type": "execute_result"
    }
   ],
   "source": [
    "# fetch Female DS\n",
    "df[(df.Gender == 'Female') & (df.Post == 'DS')]"
   ]
  },
  {
   "cell_type": "code",
   "execution_count": 7,
   "id": "afea68ba",
   "metadata": {},
   "outputs": [
    {
     "data": {
      "text/html": [
       "<div>\n",
       "<style scoped>\n",
       "    .dataframe tbody tr th:only-of-type {\n",
       "        vertical-align: middle;\n",
       "    }\n",
       "\n",
       "    .dataframe tbody tr th {\n",
       "        vertical-align: top;\n",
       "    }\n",
       "\n",
       "    .dataframe thead th {\n",
       "        text-align: right;\n",
       "    }\n",
       "</style>\n",
       "<table border=\"1\" class=\"dataframe\">\n",
       "  <thead>\n",
       "    <tr style=\"text-align: right;\">\n",
       "      <th></th>\n",
       "      <th>Name</th>\n",
       "      <th>Place</th>\n",
       "      <th>Post</th>\n",
       "      <th>Salary</th>\n",
       "      <th>Age</th>\n",
       "      <th>Gender</th>\n",
       "    </tr>\n",
       "  </thead>\n",
       "  <tbody>\n",
       "    <tr>\n",
       "      <th>7</th>\n",
       "      <td>Reva Jagtap</td>\n",
       "      <td>Karad</td>\n",
       "      <td>DS</td>\n",
       "      <td>50000</td>\n",
       "      <td>28</td>\n",
       "      <td>Female</td>\n",
       "    </tr>\n",
       "  </tbody>\n",
       "</table>\n",
       "</div>"
      ],
      "text/plain": [
       "          Name  Place Post  Salary  Age  Gender\n",
       "7  Reva Jagtap  Karad   DS   50000   28  Female"
      ]
     },
     "execution_count": 7,
     "metadata": {},
     "output_type": "execute_result"
    }
   ],
   "source": [
    "# same solution using query\n",
    "df.query('Gender == \"Female\" & Post == \"DS\"')"
   ]
  },
  {
   "cell_type": "code",
   "execution_count": 10,
   "id": "cd300bd5",
   "metadata": {},
   "outputs": [
    {
     "data": {
      "text/plain": [
       "DS         3\n",
       "SE         2\n",
       "Admin      1\n",
       "Tester     1\n",
       "Manager    1\n",
       "Name: Post, dtype: int64"
      ]
     },
     "execution_count": 10,
     "metadata": {},
     "output_type": "execute_result"
    }
   ],
   "source": [
    "# Post  wise count required\n",
    "ans = df.Post.value_counts()\n",
    "ans\n",
    "#value_counts():Return a Series containing counts of unique values."
   ]
  },
  {
   "cell_type": "code",
   "execution_count": 11,
   "id": "e95c84fb",
   "metadata": {},
   "outputs": [
    {
     "data": {
      "text/plain": [
       "<AxesSubplot:>"
      ]
     },
     "execution_count": 11,
     "metadata": {},
     "output_type": "execute_result"
    },
    {
     "data": {
      "image/png": "[encoded data removed]",
      "text/plain": [
       "<Figure size 432x288 with 1 Axes>"
      ]
     },
     "metadata": {
      "needs_background": "light"
     },
     "output_type": "display_data"
    }
   ],
   "source": [
    "# plot above answer\n",
    "ans.plot(kind='bar')"
   ]
  },
  {
   "cell_type": "code",
   "execution_count": 14,
   "id": "7677e1cf",
   "metadata": {},
   "outputs": [
    {
     "data": {
      "text/plain": [
       "0    0\n",
       "1    1\n",
       "2    0\n",
       "3    0\n",
       "4    0\n",
       "5    1\n",
       "6    1\n",
       "7    1\n",
       "Name: Gender, dtype: int64"
      ]
     },
     "execution_count": 14,
     "metadata": {},
     "output_type": "execute_result"
    }
   ],
   "source": [
    "# convert Gender column Male 0 and Female 1\n",
    "df.Gender.map({'Male':0,'Female':1})"
   ]
  },
  {
   "cell_type": "code",
   "execution_count": 16,
   "id": "20b84f07",
   "metadata": {},
   "outputs": [],
   "source": [
    "df.Gender = df.Gender.map({'Male':0,'Female':1})"
   ]
  },
  {
   "cell_type": "code",
   "execution_count": 17,
   "id": "5bc04f4e",
   "metadata": {},
   "outputs": [
    {
     "data": {
      "text/html": [
       "<div>\n",
       "<style scoped>\n",
       "    .dataframe tbody tr th:only-of-type {\n",
       "        vertical-align: middle;\n",
       "    }\n",
       "\n",
       "    .dataframe tbody tr th {\n",
       "        vertical-align: top;\n",
       "    }\n",
       "\n",
       "    .dataframe thead th {\n",
       "        text-align: right;\n",
       "    }\n",
       "</style>\n",
       "<table border=\"1\" class=\"dataframe\">\n",
       "  <thead>\n",
       "    <tr style=\"text-align: right;\">\n",
       "      <th></th>\n",
       "      <th>Name</th>\n",
       "      <th>Place</th>\n",
       "      <th>Post</th>\n",
       "      <th>Salary</th>\n",
       "      <th>Age</th>\n",
       "      <th>Gender</th>\n",
       "    </tr>\n",
       "  </thead>\n",
       "  <tbody>\n",
       "    <tr>\n",
       "      <th>0</th>\n",
       "      <td>Abhishek Ingulkaar</td>\n",
       "      <td>Pune</td>\n",
       "      <td>DS</td>\n",
       "      <td>345000</td>\n",
       "      <td>25</td>\n",
       "      <td>0</td>\n",
       "    </tr>\n",
       "    <tr>\n",
       "      <th>1</th>\n",
       "      <td>Ashwini Gat</td>\n",
       "      <td>Ichalkaranji</td>\n",
       "      <td>Admin</td>\n",
       "      <td>45000</td>\n",
       "      <td>33</td>\n",
       "      <td>1</td>\n",
       "    </tr>\n",
       "    <tr>\n",
       "      <th>2</th>\n",
       "      <td>Gaurav Desai</td>\n",
       "      <td>Pune</td>\n",
       "      <td>Tester</td>\n",
       "      <td>80000</td>\n",
       "      <td>28</td>\n",
       "      <td>0</td>\n",
       "    </tr>\n",
       "    <tr>\n",
       "      <th>3</th>\n",
       "      <td>Milind Dhawale</td>\n",
       "      <td>Thane</td>\n",
       "      <td>DS</td>\n",
       "      <td>120000</td>\n",
       "      <td>23</td>\n",
       "      <td>0</td>\n",
       "    </tr>\n",
       "    <tr>\n",
       "      <th>4</th>\n",
       "      <td>Prasad Ganthade</td>\n",
       "      <td>Belgaum</td>\n",
       "      <td>Manager</td>\n",
       "      <td>500000</td>\n",
       "      <td>29</td>\n",
       "      <td>0</td>\n",
       "    </tr>\n",
       "    <tr>\n",
       "      <th>5</th>\n",
       "      <td>Sadia Desai</td>\n",
       "      <td>Dubai</td>\n",
       "      <td>SE</td>\n",
       "      <td>340000</td>\n",
       "      <td>31</td>\n",
       "      <td>1</td>\n",
       "    </tr>\n",
       "    <tr>\n",
       "      <th>6</th>\n",
       "      <td>Shilvanti Kale</td>\n",
       "      <td>Sangli</td>\n",
       "      <td>SE</td>\n",
       "      <td>68000</td>\n",
       "      <td>23</td>\n",
       "      <td>1</td>\n",
       "    </tr>\n",
       "    <tr>\n",
       "      <th>7</th>\n",
       "      <td>Reva Jagtap</td>\n",
       "      <td>Karad</td>\n",
       "      <td>DS</td>\n",
       "      <td>50000</td>\n",
       "      <td>28</td>\n",
       "      <td>1</td>\n",
       "    </tr>\n",
       "  </tbody>\n",
       "</table>\n",
       "</div>"
      ],
      "text/plain": [
       "                 Name         Place     Post  Salary  Age  Gender\n",
       "0  Abhishek Ingulkaar          Pune       DS  345000   25       0\n",
       "1         Ashwini Gat  Ichalkaranji    Admin   45000   33       1\n",
       "2        Gaurav Desai          Pune   Tester   80000   28       0\n",
       "3      Milind Dhawale         Thane       DS  120000   23       0\n",
       "4     Prasad Ganthade       Belgaum  Manager  500000   29       0\n",
       "5         Sadia Desai         Dubai       SE  340000   31       1\n",
       "6      Shilvanti Kale        Sangli       SE   68000   23       1\n",
       "7         Reva Jagtap         Karad       DS   50000   28       1"
      ]
     },
     "execution_count": 17,
     "metadata": {},
     "output_type": "execute_result"
    }
   ],
   "source": [
    "df"
   ]
  },
  {
   "cell_type": "raw",
   "id": "40f9af6f",
   "metadata": {},
   "source": [
    "# Assignment: get the above output using replace(), apply()"
   ]
  },
  {
   "cell_type": "code",
   "execution_count": 18,
   "id": "d7a37f1f",
   "metadata": {},
   "outputs": [
    {
     "data": {
      "text/html": [
       "<div>\n",
       "<style scoped>\n",
       "    .dataframe tbody tr th:only-of-type {\n",
       "        vertical-align: middle;\n",
       "    }\n",
       "\n",
       "    .dataframe tbody tr th {\n",
       "        vertical-align: top;\n",
       "    }\n",
       "\n",
       "    .dataframe thead th {\n",
       "        text-align: right;\n",
       "    }\n",
       "</style>\n",
       "<table border=\"1\" class=\"dataframe\">\n",
       "  <thead>\n",
       "    <tr style=\"text-align: right;\">\n",
       "      <th></th>\n",
       "      <th>Name</th>\n",
       "      <th>Place</th>\n",
       "      <th>Post</th>\n",
       "      <th>Salary</th>\n",
       "      <th>Age</th>\n",
       "      <th>Gender</th>\n",
       "    </tr>\n",
       "  </thead>\n",
       "  <tbody>\n",
       "    <tr>\n",
       "      <th>0</th>\n",
       "      <td>Abhishek Ingulkaar</td>\n",
       "      <td>Pune</td>\n",
       "      <td>DS</td>\n",
       "      <td>345000</td>\n",
       "      <td>25</td>\n",
       "      <td>0</td>\n",
       "    </tr>\n",
       "    <tr>\n",
       "      <th>1</th>\n",
       "      <td>Ashwini Gat</td>\n",
       "      <td>Ichalkaranji</td>\n",
       "      <td>Admin</td>\n",
       "      <td>45000</td>\n",
       "      <td>33</td>\n",
       "      <td>1</td>\n",
       "    </tr>\n",
       "    <tr>\n",
       "      <th>2</th>\n",
       "      <td>Gaurav Desai</td>\n",
       "      <td>Pune</td>\n",
       "      <td>Tester</td>\n",
       "      <td>80000</td>\n",
       "      <td>28</td>\n",
       "      <td>0</td>\n",
       "    </tr>\n",
       "    <tr>\n",
       "      <th>3</th>\n",
       "      <td>Milind Dhawale</td>\n",
       "      <td>Thane</td>\n",
       "      <td>DS</td>\n",
       "      <td>120000</td>\n",
       "      <td>23</td>\n",
       "      <td>0</td>\n",
       "    </tr>\n",
       "    <tr>\n",
       "      <th>4</th>\n",
       "      <td>Prasad Ganthade</td>\n",
       "      <td>Belgaum</td>\n",
       "      <td>Manager</td>\n",
       "      <td>500000</td>\n",
       "      <td>29</td>\n",
       "      <td>0</td>\n",
       "    </tr>\n",
       "    <tr>\n",
       "      <th>5</th>\n",
       "      <td>Sadia Desai</td>\n",
       "      <td>Dubai</td>\n",
       "      <td>SE</td>\n",
       "      <td>340000</td>\n",
       "      <td>31</td>\n",
       "      <td>1</td>\n",
       "    </tr>\n",
       "    <tr>\n",
       "      <th>6</th>\n",
       "      <td>Shilvanti Kale</td>\n",
       "      <td>Sangli</td>\n",
       "      <td>SE</td>\n",
       "      <td>68000</td>\n",
       "      <td>23</td>\n",
       "      <td>1</td>\n",
       "    </tr>\n",
       "    <tr>\n",
       "      <th>7</th>\n",
       "      <td>Reva Jagtap</td>\n",
       "      <td>Karad</td>\n",
       "      <td>DS</td>\n",
       "      <td>50000</td>\n",
       "      <td>28</td>\n",
       "      <td>1</td>\n",
       "    </tr>\n",
       "  </tbody>\n",
       "</table>\n",
       "</div>"
      ],
      "text/plain": [
       "                 Name         Place     Post  Salary  Age  Gender\n",
       "0  Abhishek Ingulkaar          Pune       DS  345000   25       0\n",
       "1         Ashwini Gat  Ichalkaranji    Admin   45000   33       1\n",
       "2        Gaurav Desai          Pune   Tester   80000   28       0\n",
       "3      Milind Dhawale         Thane       DS  120000   23       0\n",
       "4     Prasad Ganthade       Belgaum  Manager  500000   29       0\n",
       "5         Sadia Desai         Dubai       SE  340000   31       1\n",
       "6      Shilvanti Kale        Sangli       SE   68000   23       1\n",
       "7         Reva Jagtap         Karad       DS   50000   28       1"
      ]
     },
     "execution_count": 18,
     "metadata": {},
     "output_type": "execute_result"
    }
   ],
   "source": [
    "df"
   ]
  },
  {
   "cell_type": "code",
   "execution_count": 19,
   "id": "5e11075f",
   "metadata": {},
   "outputs": [
    {
     "data": {
      "text/html": [
       "<div>\n",
       "<style scoped>\n",
       "    .dataframe tbody tr th:only-of-type {\n",
       "        vertical-align: middle;\n",
       "    }\n",
       "\n",
       "    .dataframe tbody tr th {\n",
       "        vertical-align: top;\n",
       "    }\n",
       "\n",
       "    .dataframe thead th {\n",
       "        text-align: right;\n",
       "    }\n",
       "</style>\n",
       "<table border=\"1\" class=\"dataframe\">\n",
       "  <thead>\n",
       "    <tr style=\"text-align: right;\">\n",
       "      <th></th>\n",
       "      <th>Name</th>\n",
       "      <th>Place</th>\n",
       "      <th>Post</th>\n",
       "      <th>Salary</th>\n",
       "      <th>Age</th>\n",
       "      <th>Gender</th>\n",
       "    </tr>\n",
       "  </thead>\n",
       "  <tbody>\n",
       "    <tr>\n",
       "      <th>0</th>\n",
       "      <td>Abhishek Ingulkaar</td>\n",
       "      <td>Pune</td>\n",
       "      <td>DS</td>\n",
       "      <td>345000</td>\n",
       "      <td>25</td>\n",
       "      <td>0</td>\n",
       "    </tr>\n",
       "    <tr>\n",
       "      <th>1</th>\n",
       "      <td>Ashwini Gat</td>\n",
       "      <td>Ichalkaranji</td>\n",
       "      <td>Admin</td>\n",
       "      <td>45000</td>\n",
       "      <td>33</td>\n",
       "      <td>1</td>\n",
       "    </tr>\n",
       "    <tr>\n",
       "      <th>2</th>\n",
       "      <td>Gaurav Desai</td>\n",
       "      <td>Pune</td>\n",
       "      <td>Tester</td>\n",
       "      <td>80000</td>\n",
       "      <td>28</td>\n",
       "      <td>0</td>\n",
       "    </tr>\n",
       "    <tr>\n",
       "      <th>3</th>\n",
       "      <td>Milind Dhawale</td>\n",
       "      <td>Thane</td>\n",
       "      <td>DS</td>\n",
       "      <td>120000</td>\n",
       "      <td>23</td>\n",
       "      <td>0</td>\n",
       "    </tr>\n",
       "    <tr>\n",
       "      <th>5</th>\n",
       "      <td>Sadia Desai</td>\n",
       "      <td>Dubai</td>\n",
       "      <td>SE</td>\n",
       "      <td>340000</td>\n",
       "      <td>31</td>\n",
       "      <td>1</td>\n",
       "    </tr>\n",
       "    <tr>\n",
       "      <th>6</th>\n",
       "      <td>Shilvanti Kale</td>\n",
       "      <td>Sangli</td>\n",
       "      <td>SE</td>\n",
       "      <td>68000</td>\n",
       "      <td>23</td>\n",
       "      <td>1</td>\n",
       "    </tr>\n",
       "    <tr>\n",
       "      <th>7</th>\n",
       "      <td>Reva Jagtap</td>\n",
       "      <td>Karad</td>\n",
       "      <td>DS</td>\n",
       "      <td>50000</td>\n",
       "      <td>28</td>\n",
       "      <td>1</td>\n",
       "    </tr>\n",
       "  </tbody>\n",
       "</table>\n",
       "</div>"
      ],
      "text/plain": [
       "                 Name         Place    Post  Salary  Age  Gender\n",
       "0  Abhishek Ingulkaar          Pune      DS  345000   25       0\n",
       "1         Ashwini Gat  Ichalkaranji   Admin   45000   33       1\n",
       "2        Gaurav Desai          Pune  Tester   80000   28       0\n",
       "3      Milind Dhawale         Thane      DS  120000   23       0\n",
       "5         Sadia Desai         Dubai      SE  340000   31       1\n",
       "6      Shilvanti Kale        Sangli      SE   68000   23       1\n",
       "7         Reva Jagtap         Karad      DS   50000   28       1"
      ]
     },
     "execution_count": 19,
     "metadata": {},
     "output_type": "execute_result"
    }
   ],
   "source": [
    "# how to remove a row\n",
    "df.drop(4) # here 4 is an index "
   ]
  },
  {
   "cell_type": "code",
   "execution_count": 20,
   "id": "30401b5a",
   "metadata": {},
   "outputs": [
    {
     "data": {
      "text/html": [
       "<div>\n",
       "<style scoped>\n",
       "    .dataframe tbody tr th:only-of-type {\n",
       "        vertical-align: middle;\n",
       "    }\n",
       "\n",
       "    .dataframe tbody tr th {\n",
       "        vertical-align: top;\n",
       "    }\n",
       "\n",
       "    .dataframe thead th {\n",
       "        text-align: right;\n",
       "    }\n",
       "</style>\n",
       "<table border=\"1\" class=\"dataframe\">\n",
       "  <thead>\n",
       "    <tr style=\"text-align: right;\">\n",
       "      <th></th>\n",
       "      <th>Name</th>\n",
       "      <th>Place</th>\n",
       "      <th>Post</th>\n",
       "      <th>Salary</th>\n",
       "      <th>Age</th>\n",
       "      <th>Gender</th>\n",
       "    </tr>\n",
       "  </thead>\n",
       "  <tbody>\n",
       "    <tr>\n",
       "      <th>1</th>\n",
       "      <td>Ashwini Gat</td>\n",
       "      <td>Ichalkaranji</td>\n",
       "      <td>Admin</td>\n",
       "      <td>45000</td>\n",
       "      <td>33</td>\n",
       "      <td>1</td>\n",
       "    </tr>\n",
       "    <tr>\n",
       "      <th>2</th>\n",
       "      <td>Gaurav Desai</td>\n",
       "      <td>Pune</td>\n",
       "      <td>Tester</td>\n",
       "      <td>80000</td>\n",
       "      <td>28</td>\n",
       "      <td>0</td>\n",
       "    </tr>\n",
       "    <tr>\n",
       "      <th>4</th>\n",
       "      <td>Prasad Ganthade</td>\n",
       "      <td>Belgaum</td>\n",
       "      <td>Manager</td>\n",
       "      <td>500000</td>\n",
       "      <td>29</td>\n",
       "      <td>0</td>\n",
       "    </tr>\n",
       "    <tr>\n",
       "      <th>5</th>\n",
       "      <td>Sadia Desai</td>\n",
       "      <td>Dubai</td>\n",
       "      <td>SE</td>\n",
       "      <td>340000</td>\n",
       "      <td>31</td>\n",
       "      <td>1</td>\n",
       "    </tr>\n",
       "    <tr>\n",
       "      <th>6</th>\n",
       "      <td>Shilvanti Kale</td>\n",
       "      <td>Sangli</td>\n",
       "      <td>SE</td>\n",
       "      <td>68000</td>\n",
       "      <td>23</td>\n",
       "      <td>1</td>\n",
       "    </tr>\n",
       "  </tbody>\n",
       "</table>\n",
       "</div>"
      ],
      "text/plain": [
       "              Name         Place     Post  Salary  Age  Gender\n",
       "1      Ashwini Gat  Ichalkaranji    Admin   45000   33       1\n",
       "2     Gaurav Desai          Pune   Tester   80000   28       0\n",
       "4  Prasad Ganthade       Belgaum  Manager  500000   29       0\n",
       "5      Sadia Desai         Dubai       SE  340000   31       1\n",
       "6   Shilvanti Kale        Sangli       SE   68000   23       1"
      ]
     },
     "execution_count": 20,
     "metadata": {},
     "output_type": "execute_result"
    }
   ],
   "source": [
    "# Can we remove multiple rows\n",
    "df.drop([0,3,7])"
   ]
  },
  {
   "cell_type": "code",
   "execution_count": 22,
   "id": "6f70301e",
   "metadata": {},
   "outputs": [
    {
     "data": {
      "text/html": [
       "<div>\n",
       "<style scoped>\n",
       "    .dataframe tbody tr th:only-of-type {\n",
       "        vertical-align: middle;\n",
       "    }\n",
       "\n",
       "    .dataframe tbody tr th {\n",
       "        vertical-align: top;\n",
       "    }\n",
       "\n",
       "    .dataframe thead th {\n",
       "        text-align: right;\n",
       "    }\n",
       "</style>\n",
       "<table border=\"1\" class=\"dataframe\">\n",
       "  <thead>\n",
       "    <tr style=\"text-align: right;\">\n",
       "      <th></th>\n",
       "      <th>Name</th>\n",
       "      <th>Post</th>\n",
       "      <th>Salary</th>\n",
       "      <th>Gender</th>\n",
       "    </tr>\n",
       "  </thead>\n",
       "  <tbody>\n",
       "    <tr>\n",
       "      <th>0</th>\n",
       "      <td>Abhishek Ingulkaar</td>\n",
       "      <td>DS</td>\n",
       "      <td>345000</td>\n",
       "      <td>0</td>\n",
       "    </tr>\n",
       "    <tr>\n",
       "      <th>1</th>\n",
       "      <td>Ashwini Gat</td>\n",
       "      <td>Admin</td>\n",
       "      <td>45000</td>\n",
       "      <td>1</td>\n",
       "    </tr>\n",
       "    <tr>\n",
       "      <th>2</th>\n",
       "      <td>Gaurav Desai</td>\n",
       "      <td>Tester</td>\n",
       "      <td>80000</td>\n",
       "      <td>0</td>\n",
       "    </tr>\n",
       "    <tr>\n",
       "      <th>3</th>\n",
       "      <td>Milind Dhawale</td>\n",
       "      <td>DS</td>\n",
       "      <td>120000</td>\n",
       "      <td>0</td>\n",
       "    </tr>\n",
       "    <tr>\n",
       "      <th>4</th>\n",
       "      <td>Prasad Ganthade</td>\n",
       "      <td>Manager</td>\n",
       "      <td>500000</td>\n",
       "      <td>0</td>\n",
       "    </tr>\n",
       "    <tr>\n",
       "      <th>5</th>\n",
       "      <td>Sadia Desai</td>\n",
       "      <td>SE</td>\n",
       "      <td>340000</td>\n",
       "      <td>1</td>\n",
       "    </tr>\n",
       "    <tr>\n",
       "      <th>6</th>\n",
       "      <td>Shilvanti Kale</td>\n",
       "      <td>SE</td>\n",
       "      <td>68000</td>\n",
       "      <td>1</td>\n",
       "    </tr>\n",
       "    <tr>\n",
       "      <th>7</th>\n",
       "      <td>Reva Jagtap</td>\n",
       "      <td>DS</td>\n",
       "      <td>50000</td>\n",
       "      <td>1</td>\n",
       "    </tr>\n",
       "  </tbody>\n",
       "</table>\n",
       "</div>"
      ],
      "text/plain": [
       "                 Name     Post  Salary  Gender\n",
       "0  Abhishek Ingulkaar       DS  345000       0\n",
       "1         Ashwini Gat    Admin   45000       1\n",
       "2        Gaurav Desai   Tester   80000       0\n",
       "3      Milind Dhawale       DS  120000       0\n",
       "4     Prasad Ganthade  Manager  500000       0\n",
       "5         Sadia Desai       SE  340000       1\n",
       "6      Shilvanti Kale       SE   68000       1\n",
       "7         Reva Jagtap       DS   50000       1"
      ]
     },
     "execution_count": 22,
     "metadata": {},
     "output_type": "execute_result"
    }
   ],
   "source": [
    "# Now we want to remove columns: Place and Age\n",
    "df.drop(columns=['Place','Age'])"
   ]
  },
  {
   "cell_type": "markdown",
   "id": "1f78d8a8",
   "metadata": {},
   "source": [
    "### df.drop_duplicates :return DataFrame with duplicate rows removed."
   ]
  },
  {
   "cell_type": "code",
   "execution_count": 24,
   "id": "f9eb2bd1",
   "metadata": {},
   "outputs": [
    {
     "data": {
      "text/html": [
       "<div>\n",
       "<style scoped>\n",
       "    .dataframe tbody tr th:only-of-type {\n",
       "        vertical-align: middle;\n",
       "    }\n",
       "\n",
       "    .dataframe tbody tr th {\n",
       "        vertical-align: top;\n",
       "    }\n",
       "\n",
       "    .dataframe thead th {\n",
       "        text-align: right;\n",
       "    }\n",
       "</style>\n",
       "<table border=\"1\" class=\"dataframe\">\n",
       "  <thead>\n",
       "    <tr style=\"text-align: right;\">\n",
       "      <th></th>\n",
       "      <th>0</th>\n",
       "      <th>1</th>\n",
       "      <th>2</th>\n",
       "      <th>3</th>\n",
       "    </tr>\n",
       "  </thead>\n",
       "  <tbody>\n",
       "    <tr>\n",
       "      <th>0</th>\n",
       "      <td>1</td>\n",
       "      <td>2</td>\n",
       "      <td>3</td>\n",
       "      <td>4</td>\n",
       "    </tr>\n",
       "    <tr>\n",
       "      <th>1</th>\n",
       "      <td>1</td>\n",
       "      <td>2</td>\n",
       "      <td>3</td>\n",
       "      <td>4</td>\n",
       "    </tr>\n",
       "    <tr>\n",
       "      <th>2</th>\n",
       "      <td>3</td>\n",
       "      <td>4</td>\n",
       "      <td>5</td>\n",
       "      <td>6</td>\n",
       "    </tr>\n",
       "    <tr>\n",
       "      <th>3</th>\n",
       "      <td>7</td>\n",
       "      <td>8</td>\n",
       "      <td>9</td>\n",
       "      <td>10</td>\n",
       "    </tr>\n",
       "  </tbody>\n",
       "</table>\n",
       "</div>"
      ],
      "text/plain": [
       "   0  1  2   3\n",
       "0  1  2  3   4\n",
       "1  1  2  3   4\n",
       "2  3  4  5   6\n",
       "3  7  8  9  10"
      ]
     },
     "execution_count": 24,
     "metadata": {},
     "output_type": "execute_result"
    }
   ],
   "source": [
    "data = pd.DataFrame([[1,2,3,4],[1,2,3,4],[3,4,5,6],[7,8,9,10]])\n",
    "data"
   ]
  },
  {
   "cell_type": "code",
   "execution_count": 25,
   "id": "6541fb4c",
   "metadata": {},
   "outputs": [
    {
     "data": {
      "text/html": [
       "<div>\n",
       "<style scoped>\n",
       "    .dataframe tbody tr th:only-of-type {\n",
       "        vertical-align: middle;\n",
       "    }\n",
       "\n",
       "    .dataframe tbody tr th {\n",
       "        vertical-align: top;\n",
       "    }\n",
       "\n",
       "    .dataframe thead th {\n",
       "        text-align: right;\n",
       "    }\n",
       "</style>\n",
       "<table border=\"1\" class=\"dataframe\">\n",
       "  <thead>\n",
       "    <tr style=\"text-align: right;\">\n",
       "      <th></th>\n",
       "      <th>0</th>\n",
       "      <th>1</th>\n",
       "      <th>2</th>\n",
       "      <th>3</th>\n",
       "    </tr>\n",
       "  </thead>\n",
       "  <tbody>\n",
       "    <tr>\n",
       "      <th>0</th>\n",
       "      <td>1</td>\n",
       "      <td>2</td>\n",
       "      <td>3</td>\n",
       "      <td>4</td>\n",
       "    </tr>\n",
       "    <tr>\n",
       "      <th>2</th>\n",
       "      <td>3</td>\n",
       "      <td>4</td>\n",
       "      <td>5</td>\n",
       "      <td>6</td>\n",
       "    </tr>\n",
       "    <tr>\n",
       "      <th>3</th>\n",
       "      <td>7</td>\n",
       "      <td>8</td>\n",
       "      <td>9</td>\n",
       "      <td>10</td>\n",
       "    </tr>\n",
       "  </tbody>\n",
       "</table>\n",
       "</div>"
      ],
      "text/plain": [
       "   0  1  2   3\n",
       "0  1  2  3   4\n",
       "2  3  4  5   6\n",
       "3  7  8  9  10"
      ]
     },
     "execution_count": 25,
     "metadata": {},
     "output_type": "execute_result"
    }
   ],
   "source": [
    "data.drop_duplicates()"
   ]
  },
  {
   "cell_type": "code",
   "execution_count": 26,
   "id": "22467d25",
   "metadata": {},
   "outputs": [
    {
     "data": {
      "text/html": [
       "<div>\n",
       "<style scoped>\n",
       "    .dataframe tbody tr th:only-of-type {\n",
       "        vertical-align: middle;\n",
       "    }\n",
       "\n",
       "    .dataframe tbody tr th {\n",
       "        vertical-align: top;\n",
       "    }\n",
       "\n",
       "    .dataframe thead th {\n",
       "        text-align: right;\n",
       "    }\n",
       "</style>\n",
       "<table border=\"1\" class=\"dataframe\">\n",
       "  <thead>\n",
       "    <tr style=\"text-align: right;\">\n",
       "      <th></th>\n",
       "      <th>0</th>\n",
       "      <th>1</th>\n",
       "      <th>2</th>\n",
       "      <th>3</th>\n",
       "    </tr>\n",
       "  </thead>\n",
       "  <tbody>\n",
       "    <tr>\n",
       "      <th>1</th>\n",
       "      <td>1</td>\n",
       "      <td>2</td>\n",
       "      <td>3</td>\n",
       "      <td>4</td>\n",
       "    </tr>\n",
       "    <tr>\n",
       "      <th>2</th>\n",
       "      <td>3</td>\n",
       "      <td>4</td>\n",
       "      <td>5</td>\n",
       "      <td>6</td>\n",
       "    </tr>\n",
       "    <tr>\n",
       "      <th>3</th>\n",
       "      <td>7</td>\n",
       "      <td>8</td>\n",
       "      <td>9</td>\n",
       "      <td>10</td>\n",
       "    </tr>\n",
       "  </tbody>\n",
       "</table>\n",
       "</div>"
      ],
      "text/plain": [
       "   0  1  2   3\n",
       "1  1  2  3   4\n",
       "2  3  4  5   6\n",
       "3  7  8  9  10"
      ]
     },
     "execution_count": 26,
     "metadata": {},
     "output_type": "execute_result"
    }
   ],
   "source": [
    "# i want last duplicate row\n",
    "data.drop_duplicates(keep='last')"
   ]
  },
  {
   "cell_type": "markdown",
   "id": "b1fdffda",
   "metadata": {},
   "source": [
    "## Assignment: Delete duplicate columns and keep one"
   ]
  },
  {
   "cell_type": "markdown",
   "id": "6f7ed2d9",
   "metadata": {},
   "source": [
    "## -----------------------------------------------"
   ]
  },
  {
   "cell_type": "code",
   "execution_count": 29,
   "id": "43e83138",
   "metadata": {},
   "outputs": [
    {
     "data": {
      "text/html": [
       "<div>\n",
       "<style scoped>\n",
       "    .dataframe tbody tr th:only-of-type {\n",
       "        vertical-align: middle;\n",
       "    }\n",
       "\n",
       "    .dataframe tbody tr th {\n",
       "        vertical-align: top;\n",
       "    }\n",
       "\n",
       "    .dataframe thead th {\n",
       "        text-align: right;\n",
       "    }\n",
       "</style>\n",
       "<table border=\"1\" class=\"dataframe\">\n",
       "  <thead>\n",
       "    <tr style=\"text-align: right;\">\n",
       "      <th></th>\n",
       "      <th>Name</th>\n",
       "      <th>Place</th>\n",
       "      <th>Post</th>\n",
       "      <th>Salary</th>\n",
       "      <th>Age</th>\n",
       "      <th>Gender</th>\n",
       "    </tr>\n",
       "  </thead>\n",
       "  <tbody>\n",
       "    <tr>\n",
       "      <th>0</th>\n",
       "      <td>Abhishek Ingulkaar</td>\n",
       "      <td>Pune</td>\n",
       "      <td>DS</td>\n",
       "      <td>345000.0</td>\n",
       "      <td>NaN</td>\n",
       "      <td>Male</td>\n",
       "    </tr>\n",
       "    <tr>\n",
       "      <th>1</th>\n",
       "      <td>Ashwini Gat</td>\n",
       "      <td>Ichalkaranji</td>\n",
       "      <td>Admin</td>\n",
       "      <td>NaN</td>\n",
       "      <td>33.0</td>\n",
       "      <td>Female</td>\n",
       "    </tr>\n",
       "    <tr>\n",
       "      <th>2</th>\n",
       "      <td>Gaurav Desai</td>\n",
       "      <td>Pune</td>\n",
       "      <td>Tester</td>\n",
       "      <td>NaN</td>\n",
       "      <td>28.0</td>\n",
       "      <td>Male</td>\n",
       "    </tr>\n",
       "    <tr>\n",
       "      <th>3</th>\n",
       "      <td>Milind Dhawale</td>\n",
       "      <td>NaN</td>\n",
       "      <td>DS</td>\n",
       "      <td>120000.0</td>\n",
       "      <td>NaN</td>\n",
       "      <td>Male</td>\n",
       "    </tr>\n",
       "    <tr>\n",
       "      <th>4</th>\n",
       "      <td>Prasad Ganthade</td>\n",
       "      <td>Belgaum</td>\n",
       "      <td>Manager</td>\n",
       "      <td>500000.0</td>\n",
       "      <td>29.0</td>\n",
       "      <td>Male</td>\n",
       "    </tr>\n",
       "    <tr>\n",
       "      <th>5</th>\n",
       "      <td>Sadia Desai</td>\n",
       "      <td>Dubai</td>\n",
       "      <td>SE</td>\n",
       "      <td>340000.0</td>\n",
       "      <td>NaN</td>\n",
       "      <td>Female</td>\n",
       "    </tr>\n",
       "    <tr>\n",
       "      <th>6</th>\n",
       "      <td>Shilvanti Kale</td>\n",
       "      <td>NaN</td>\n",
       "      <td>SE</td>\n",
       "      <td>NaN</td>\n",
       "      <td>23.0</td>\n",
       "      <td>Female</td>\n",
       "    </tr>\n",
       "    <tr>\n",
       "      <th>7</th>\n",
       "      <td>Reva Jagtap</td>\n",
       "      <td>Karad</td>\n",
       "      <td>DS</td>\n",
       "      <td>NaN</td>\n",
       "      <td>NaN</td>\n",
       "      <td>Female</td>\n",
       "    </tr>\n",
       "  </tbody>\n",
       "</table>\n",
       "</div>"
      ],
      "text/plain": [
       "                 Name         Place     Post    Salary   Age  Gender\n",
       "0  Abhishek Ingulkaar          Pune       DS  345000.0   NaN    Male\n",
       "1         Ashwini Gat  Ichalkaranji    Admin       NaN  33.0  Female\n",
       "2        Gaurav Desai          Pune   Tester       NaN  28.0    Male\n",
       "3      Milind Dhawale           NaN       DS  120000.0   NaN    Male\n",
       "4     Prasad Ganthade       Belgaum  Manager  500000.0  29.0    Male\n",
       "5         Sadia Desai         Dubai       SE  340000.0   NaN  Female\n",
       "6      Shilvanti Kale           NaN       SE       NaN  23.0  Female\n",
       "7         Reva Jagtap         Karad       DS       NaN   NaN  Female"
      ]
     },
     "execution_count": 29,
     "metadata": {},
     "output_type": "execute_result"
    }
   ],
   "source": [
    "df1 = pd.read_excel(r'C:\\Users\\hakim\\OneDrive\\Desktop\\batch_21_n.xlsx')\n",
    "df1"
   ]
  },
  {
   "cell_type": "markdown",
   "id": "82d76fca",
   "metadata": {},
   "source": [
    "##### NaN: Not a Number"
   ]
  },
  {
   "cell_type": "markdown",
   "id": "53930014",
   "metadata": {},
   "source": [
    "### check missing data "
   ]
  },
  {
   "cell_type": "code",
   "execution_count": 31,
   "id": "532de0f4",
   "metadata": {},
   "outputs": [
    {
     "data": {
      "text/html": [
       "<div>\n",
       "<style scoped>\n",
       "    .dataframe tbody tr th:only-of-type {\n",
       "        vertical-align: middle;\n",
       "    }\n",
       "\n",
       "    .dataframe tbody tr th {\n",
       "        vertical-align: top;\n",
       "    }\n",
       "\n",
       "    .dataframe thead th {\n",
       "        text-align: right;\n",
       "    }\n",
       "</style>\n",
       "<table border=\"1\" class=\"dataframe\">\n",
       "  <thead>\n",
       "    <tr style=\"text-align: right;\">\n",
       "      <th></th>\n",
       "      <th>Name</th>\n",
       "      <th>Place</th>\n",
       "      <th>Post</th>\n",
       "      <th>Salary</th>\n",
       "      <th>Age</th>\n",
       "      <th>Gender</th>\n",
       "    </tr>\n",
       "  </thead>\n",
       "  <tbody>\n",
       "    <tr>\n",
       "      <th>0</th>\n",
       "      <td>False</td>\n",
       "      <td>False</td>\n",
       "      <td>False</td>\n",
       "      <td>False</td>\n",
       "      <td>True</td>\n",
       "      <td>False</td>\n",
       "    </tr>\n",
       "    <tr>\n",
       "      <th>1</th>\n",
       "      <td>False</td>\n",
       "      <td>False</td>\n",
       "      <td>False</td>\n",
       "      <td>True</td>\n",
       "      <td>False</td>\n",
       "      <td>False</td>\n",
       "    </tr>\n",
       "    <tr>\n",
       "      <th>2</th>\n",
       "      <td>False</td>\n",
       "      <td>False</td>\n",
       "      <td>False</td>\n",
       "      <td>True</td>\n",
       "      <td>False</td>\n",
       "      <td>False</td>\n",
       "    </tr>\n",
       "    <tr>\n",
       "      <th>3</th>\n",
       "      <td>False</td>\n",
       "      <td>True</td>\n",
       "      <td>False</td>\n",
       "      <td>False</td>\n",
       "      <td>True</td>\n",
       "      <td>False</td>\n",
       "    </tr>\n",
       "    <tr>\n",
       "      <th>4</th>\n",
       "      <td>False</td>\n",
       "      <td>False</td>\n",
       "      <td>False</td>\n",
       "      <td>False</td>\n",
       "      <td>False</td>\n",
       "      <td>False</td>\n",
       "    </tr>\n",
       "    <tr>\n",
       "      <th>5</th>\n",
       "      <td>False</td>\n",
       "      <td>False</td>\n",
       "      <td>False</td>\n",
       "      <td>False</td>\n",
       "      <td>True</td>\n",
       "      <td>False</td>\n",
       "    </tr>\n",
       "    <tr>\n",
       "      <th>6</th>\n",
       "      <td>False</td>\n",
       "      <td>True</td>\n",
       "      <td>False</td>\n",
       "      <td>True</td>\n",
       "      <td>False</td>\n",
       "      <td>False</td>\n",
       "    </tr>\n",
       "    <tr>\n",
       "      <th>7</th>\n",
       "      <td>False</td>\n",
       "      <td>False</td>\n",
       "      <td>False</td>\n",
       "      <td>True</td>\n",
       "      <td>True</td>\n",
       "      <td>False</td>\n",
       "    </tr>\n",
       "  </tbody>\n",
       "</table>\n",
       "</div>"
      ],
      "text/plain": [
       "    Name  Place   Post  Salary    Age  Gender\n",
       "0  False  False  False   False   True   False\n",
       "1  False  False  False    True  False   False\n",
       "2  False  False  False    True  False   False\n",
       "3  False   True  False   False   True   False\n",
       "4  False  False  False   False  False   False\n",
       "5  False  False  False   False   True   False\n",
       "6  False   True  False    True  False   False\n",
       "7  False  False  False    True   True   False"
      ]
     },
     "execution_count": 31,
     "metadata": {},
     "output_type": "execute_result"
    }
   ],
   "source": [
    "# True means missing data, missing entry, empty cell\n",
    "df1.isna()"
   ]
  },
  {
   "cell_type": "code",
   "execution_count": 33,
   "id": "9b749d4d",
   "metadata": {},
   "outputs": [
    {
     "data": {
      "text/plain": [
       "Name      0\n",
       "Place     2\n",
       "Post      0\n",
       "Salary    4\n",
       "Age       4\n",
       "Gender    0\n",
       "dtype: int64"
      ]
     },
     "execution_count": 33,
     "metadata": {},
     "output_type": "execute_result"
    }
   ],
   "source": [
    "df1.isna().sum()"
   ]
  },
  {
   "cell_type": "raw",
   "id": "548d73b9",
   "metadata": {},
   "source": [
    "# from above cell we can understand Place, Salary and Age column contains missing # entries now we have to deal with it"
   ]
  },
  {
   "cell_type": "markdown",
   "id": "a0dd61f8",
   "metadata": {},
   "source": [
    "## Dealing with missing data"
   ]
  },
  {
   "cell_type": "code",
   "execution_count": 35,
   "id": "a19fd4f6",
   "metadata": {},
   "outputs": [
    {
     "data": {
      "text/plain": [
       "0    345000.0\n",
       "1         NaN\n",
       "2         NaN\n",
       "3    120000.0\n",
       "4    500000.0\n",
       "5    340000.0\n",
       "6         NaN\n",
       "7         NaN\n",
       "Name: Salary, dtype: float64"
      ]
     },
     "execution_count": 35,
     "metadata": {},
     "output_type": "execute_result"
    }
   ],
   "source": [
    "# will fill these missing entries\n",
    "df1.Salary"
   ]
  },
  {
   "cell_type": "code",
   "execution_count": 36,
   "id": "e6105d1e",
   "metadata": {},
   "outputs": [
    {
     "data": {
      "text/plain": [
       "0    345000.0\n",
       "1         0.0\n",
       "2         0.0\n",
       "3    120000.0\n",
       "4    500000.0\n",
       "5    340000.0\n",
       "6         0.0\n",
       "7         0.0\n",
       "Name: Salary, dtype: float64"
      ]
     },
     "execution_count": 36,
     "metadata": {},
     "output_type": "execute_result"
    }
   ],
   "source": [
    "df1.Salary.fillna(value=0)"
   ]
  },
  {
   "cell_type": "code",
   "execution_count": 37,
   "id": "a1a45be4",
   "metadata": {},
   "outputs": [
    {
     "data": {
      "text/plain": [
       "0    345000.0\n",
       "1     missing\n",
       "2     missing\n",
       "3    120000.0\n",
       "4    500000.0\n",
       "5    340000.0\n",
       "6     missing\n",
       "7     missing\n",
       "Name: Salary, dtype: object"
      ]
     },
     "execution_count": 37,
     "metadata": {},
     "output_type": "execute_result"
    }
   ],
   "source": [
    "df1.Salary.fillna(value='missing')"
   ]
  },
  {
   "cell_type": "raw",
   "id": "772d4168",
   "metadata": {},
   "source": [
    "3 different options we can prefer while dealing with mising values\n",
    "- Mean():average : we can use this , when we have contineous(float)/\n",
    "        discrete data(int)\n",
    "        \n",
    "- Median(): gives center value, When we have a sorted Data and we need a threshold\n",
    "\n",
    "- Mode(): gives high frequency value,when we have categorical data"
   ]
  },
  {
   "cell_type": "code",
   "execution_count": 39,
   "id": "12cefc15",
   "metadata": {},
   "outputs": [],
   "source": [
    "import statistics as st"
   ]
  },
  {
   "cell_type": "code",
   "execution_count": 41,
   "id": "d7e466e8",
   "metadata": {},
   "outputs": [
    {
     "data": {
      "text/plain": [
       "58"
      ]
     },
     "execution_count": 41,
     "metadata": {},
     "output_type": "execute_result"
    }
   ],
   "source": [
    "# returns avg\n",
    "st.mean([150,20,30,40,50])"
   ]
  },
  {
   "cell_type": "code",
   "execution_count": 42,
   "id": "2ac73a4a",
   "metadata": {},
   "outputs": [
    {
     "data": {
      "text/plain": [
       "58.0"
      ]
     },
     "execution_count": 42,
     "metadata": {},
     "output_type": "execute_result"
    }
   ],
   "source": [
    "sum([150,20,30,40,50])/len([150,20,30,40,50])"
   ]
  },
  {
   "cell_type": "code",
   "execution_count": 43,
   "id": "3388f203",
   "metadata": {},
   "outputs": [
    {
     "data": {
      "text/plain": [
       "5"
      ]
     },
     "execution_count": 43,
     "metadata": {},
     "output_type": "execute_result"
    }
   ],
   "source": [
    "# median(): returns sorted middle value\n",
    "st.median([2,3,4,10,5,6,7])"
   ]
  },
  {
   "cell_type": "code",
   "execution_count": 44,
   "id": "280fd20f",
   "metadata": {},
   "outputs": [
    {
     "data": {
      "text/plain": [
       "'A'"
      ]
     },
     "execution_count": 44,
     "metadata": {},
     "output_type": "execute_result"
    }
   ],
   "source": [
    "#mode: returns Majority\n",
    "st.mode(['A','A','C','D','B','A'])"
   ]
  },
  {
   "cell_type": "markdown",
   "id": "0863a3b8",
   "metadata": {},
   "source": [
    "## mean()"
   ]
  },
  {
   "cell_type": "code",
   "execution_count": 48,
   "id": "4eae04e4",
   "metadata": {},
   "outputs": [
    {
     "data": {
      "text/plain": [
       "326250.0"
      ]
     },
     "execution_count": 48,
     "metadata": {},
     "output_type": "execute_result"
    }
   ],
   "source": [
    "m = df1.Salary.mean()\n",
    "m"
   ]
  },
  {
   "cell_type": "code",
   "execution_count": 50,
   "id": "e90764c4",
   "metadata": {
    "scrolled": true
   },
   "outputs": [
    {
     "data": {
      "text/plain": [
       "0    345000.0\n",
       "1    326250.0\n",
       "2    326250.0\n",
       "3    120000.0\n",
       "4    500000.0\n",
       "5    340000.0\n",
       "6    326250.0\n",
       "7    326250.0\n",
       "Name: Salary, dtype: float64"
      ]
     },
     "execution_count": 50,
     "metadata": {},
     "output_type": "execute_result"
    }
   ],
   "source": [
    "df1.Salary.fillna(m)\n",
    "# ans is temp. u can use inplace to save changes in the object directly"
   ]
  },
  {
   "cell_type": "markdown",
   "id": "5bcaec9a",
   "metadata": {},
   "source": [
    "#### Methods is fillna() =={'backfill', 'bfill', 'pad', 'ffill'}"
   ]
  },
  {
   "cell_type": "code",
   "execution_count": 53,
   "id": "50a2b89a",
   "metadata": {},
   "outputs": [
    {
     "data": {
      "text/plain": [
       "0    345000.0\n",
       "1    120000.0\n",
       "2    120000.0\n",
       "3    120000.0\n",
       "4    500000.0\n",
       "5    340000.0\n",
       "6         NaN\n",
       "7         NaN\n",
       "Name: Salary, dtype: float64"
      ]
     },
     "execution_count": 53,
     "metadata": {},
     "output_type": "execute_result"
    }
   ],
   "source": [
    "df1.Salary.fillna(method='bfill')\n",
    "# backfill/bfill: backward filling"
   ]
  },
  {
   "cell_type": "code",
   "execution_count": 55,
   "id": "d7d23ca0",
   "metadata": {},
   "outputs": [
    {
     "data": {
      "text/plain": [
       "0    33.0\n",
       "1    33.0\n",
       "2    28.0\n",
       "3    29.0\n",
       "4    29.0\n",
       "5    23.0\n",
       "6    23.0\n",
       "7     NaN\n",
       "Name: Age, dtype: float64"
      ]
     },
     "execution_count": 55,
     "metadata": {},
     "output_type": "execute_result"
    }
   ],
   "source": [
    "df1.Age.fillna(method='backfill')"
   ]
  },
  {
   "cell_type": "code",
   "execution_count": 57,
   "id": "99a05247",
   "metadata": {},
   "outputs": [
    {
     "data": {
      "text/plain": [
       "0    345000.0\n",
       "1    345000.0\n",
       "2    345000.0\n",
       "3    120000.0\n",
       "4    500000.0\n",
       "5    340000.0\n",
       "6    340000.0\n",
       "7    340000.0\n",
       "Name: Salary, dtype: float64"
      ]
     },
     "execution_count": 57,
     "metadata": {},
     "output_type": "execute_result"
    }
   ],
   "source": [
    "#pad/ffill: forward filling\n",
    "df1.Salary.fillna(method='pad')"
   ]
  },
  {
   "cell_type": "code",
   "execution_count": 59,
   "id": "2df005a1",
   "metadata": {},
   "outputs": [
    {
     "data": {
      "text/plain": [
       "0     NaN\n",
       "1    33.0\n",
       "2    28.0\n",
       "3    28.0\n",
       "4    29.0\n",
       "5    29.0\n",
       "6    23.0\n",
       "7    23.0\n",
       "Name: Age, dtype: float64"
      ]
     },
     "execution_count": 59,
     "metadata": {},
     "output_type": "execute_result"
    }
   ],
   "source": [
    "df1.Age.fillna(method='ffill')"
   ]
  },
  {
   "cell_type": "markdown",
   "id": "fcde7ecd",
   "metadata": {},
   "source": [
    "## dropna()"
   ]
  },
  {
   "cell_type": "code",
   "execution_count": 60,
   "id": "e059d113",
   "metadata": {},
   "outputs": [
    {
     "data": {
      "text/html": [
       "<div>\n",
       "<style scoped>\n",
       "    .dataframe tbody tr th:only-of-type {\n",
       "        vertical-align: middle;\n",
       "    }\n",
       "\n",
       "    .dataframe tbody tr th {\n",
       "        vertical-align: top;\n",
       "    }\n",
       "\n",
       "    .dataframe thead th {\n",
       "        text-align: right;\n",
       "    }\n",
       "</style>\n",
       "<table border=\"1\" class=\"dataframe\">\n",
       "  <thead>\n",
       "    <tr style=\"text-align: right;\">\n",
       "      <th></th>\n",
       "      <th>Name</th>\n",
       "      <th>Place</th>\n",
       "      <th>Post</th>\n",
       "      <th>Salary</th>\n",
       "      <th>Age</th>\n",
       "      <th>Gender</th>\n",
       "    </tr>\n",
       "  </thead>\n",
       "  <tbody>\n",
       "    <tr>\n",
       "      <th>0</th>\n",
       "      <td>Abhishek Ingulkaar</td>\n",
       "      <td>Pune</td>\n",
       "      <td>DS</td>\n",
       "      <td>345000.0</td>\n",
       "      <td>NaN</td>\n",
       "      <td>Male</td>\n",
       "    </tr>\n",
       "    <tr>\n",
       "      <th>1</th>\n",
       "      <td>Ashwini Gat</td>\n",
       "      <td>Ichalkaranji</td>\n",
       "      <td>Admin</td>\n",
       "      <td>NaN</td>\n",
       "      <td>33.0</td>\n",
       "      <td>Female</td>\n",
       "    </tr>\n",
       "    <tr>\n",
       "      <th>2</th>\n",
       "      <td>Gaurav Desai</td>\n",
       "      <td>Pune</td>\n",
       "      <td>Tester</td>\n",
       "      <td>NaN</td>\n",
       "      <td>28.0</td>\n",
       "      <td>Male</td>\n",
       "    </tr>\n",
       "    <tr>\n",
       "      <th>3</th>\n",
       "      <td>Milind Dhawale</td>\n",
       "      <td>NaN</td>\n",
       "      <td>DS</td>\n",
       "      <td>120000.0</td>\n",
       "      <td>NaN</td>\n",
       "      <td>Male</td>\n",
       "    </tr>\n",
       "    <tr>\n",
       "      <th>4</th>\n",
       "      <td>Prasad Ganthade</td>\n",
       "      <td>Belgaum</td>\n",
       "      <td>Manager</td>\n",
       "      <td>500000.0</td>\n",
       "      <td>29.0</td>\n",
       "      <td>Male</td>\n",
       "    </tr>\n",
       "    <tr>\n",
       "      <th>5</th>\n",
       "      <td>Sadia Desai</td>\n",
       "      <td>Dubai</td>\n",
       "      <td>SE</td>\n",
       "      <td>340000.0</td>\n",
       "      <td>NaN</td>\n",
       "      <td>Female</td>\n",
       "    </tr>\n",
       "    <tr>\n",
       "      <th>6</th>\n",
       "      <td>Shilvanti Kale</td>\n",
       "      <td>NaN</td>\n",
       "      <td>SE</td>\n",
       "      <td>NaN</td>\n",
       "      <td>23.0</td>\n",
       "      <td>Female</td>\n",
       "    </tr>\n",
       "    <tr>\n",
       "      <th>7</th>\n",
       "      <td>Reva Jagtap</td>\n",
       "      <td>Karad</td>\n",
       "      <td>DS</td>\n",
       "      <td>NaN</td>\n",
       "      <td>NaN</td>\n",
       "      <td>Female</td>\n",
       "    </tr>\n",
       "  </tbody>\n",
       "</table>\n",
       "</div>"
      ],
      "text/plain": [
       "                 Name         Place     Post    Salary   Age  Gender\n",
       "0  Abhishek Ingulkaar          Pune       DS  345000.0   NaN    Male\n",
       "1         Ashwini Gat  Ichalkaranji    Admin       NaN  33.0  Female\n",
       "2        Gaurav Desai          Pune   Tester       NaN  28.0    Male\n",
       "3      Milind Dhawale           NaN       DS  120000.0   NaN    Male\n",
       "4     Prasad Ganthade       Belgaum  Manager  500000.0  29.0    Male\n",
       "5         Sadia Desai         Dubai       SE  340000.0   NaN  Female\n",
       "6      Shilvanti Kale           NaN       SE       NaN  23.0  Female\n",
       "7         Reva Jagtap         Karad       DS       NaN   NaN  Female"
      ]
     },
     "execution_count": 60,
     "metadata": {},
     "output_type": "execute_result"
    }
   ],
   "source": [
    "df1"
   ]
  },
  {
   "cell_type": "code",
   "execution_count": 61,
   "id": "4fbc4c81",
   "metadata": {},
   "outputs": [
    {
     "data": {
      "text/html": [
       "<div>\n",
       "<style scoped>\n",
       "    .dataframe tbody tr th:only-of-type {\n",
       "        vertical-align: middle;\n",
       "    }\n",
       "\n",
       "    .dataframe tbody tr th {\n",
       "        vertical-align: top;\n",
       "    }\n",
       "\n",
       "    .dataframe thead th {\n",
       "        text-align: right;\n",
       "    }\n",
       "</style>\n",
       "<table border=\"1\" class=\"dataframe\">\n",
       "  <thead>\n",
       "    <tr style=\"text-align: right;\">\n",
       "      <th></th>\n",
       "      <th>Name</th>\n",
       "      <th>Place</th>\n",
       "      <th>Post</th>\n",
       "      <th>Salary</th>\n",
       "      <th>Age</th>\n",
       "      <th>Gender</th>\n",
       "    </tr>\n",
       "  </thead>\n",
       "  <tbody>\n",
       "    <tr>\n",
       "      <th>4</th>\n",
       "      <td>Prasad Ganthade</td>\n",
       "      <td>Belgaum</td>\n",
       "      <td>Manager</td>\n",
       "      <td>500000.0</td>\n",
       "      <td>29.0</td>\n",
       "      <td>Male</td>\n",
       "    </tr>\n",
       "  </tbody>\n",
       "</table>\n",
       "</div>"
      ],
      "text/plain": [
       "              Name    Place     Post    Salary   Age Gender\n",
       "4  Prasad Ganthade  Belgaum  Manager  500000.0  29.0   Male"
      ]
     },
     "execution_count": 61,
     "metadata": {},
     "output_type": "execute_result"
    }
   ],
   "source": [
    "df1.dropna() #remove a row with a single NaN also"
   ]
  },
  {
   "cell_type": "code",
   "execution_count": 62,
   "id": "fa6fde90",
   "metadata": {},
   "outputs": [
    {
     "data": {
      "text/html": [
       "<div>\n",
       "<style scoped>\n",
       "    .dataframe tbody tr th:only-of-type {\n",
       "        vertical-align: middle;\n",
       "    }\n",
       "\n",
       "    .dataframe tbody tr th {\n",
       "        vertical-align: top;\n",
       "    }\n",
       "\n",
       "    .dataframe thead th {\n",
       "        text-align: right;\n",
       "    }\n",
       "</style>\n",
       "<table border=\"1\" class=\"dataframe\">\n",
       "  <thead>\n",
       "    <tr style=\"text-align: right;\">\n",
       "      <th></th>\n",
       "      <th>Name</th>\n",
       "      <th>Place</th>\n",
       "      <th>Post</th>\n",
       "      <th>Salary</th>\n",
       "      <th>Age</th>\n",
       "      <th>Gender</th>\n",
       "    </tr>\n",
       "  </thead>\n",
       "  <tbody>\n",
       "    <tr>\n",
       "      <th>0</th>\n",
       "      <td>Abhishek Ingulkaar</td>\n",
       "      <td>Pune</td>\n",
       "      <td>DS</td>\n",
       "      <td>345000.0</td>\n",
       "      <td>NaN</td>\n",
       "      <td>Male</td>\n",
       "    </tr>\n",
       "    <tr>\n",
       "      <th>1</th>\n",
       "      <td>Ashwini Gat</td>\n",
       "      <td>Ichalkaranji</td>\n",
       "      <td>Admin</td>\n",
       "      <td>NaN</td>\n",
       "      <td>33.0</td>\n",
       "      <td>Female</td>\n",
       "    </tr>\n",
       "    <tr>\n",
       "      <th>2</th>\n",
       "      <td>Gaurav Desai</td>\n",
       "      <td>Pune</td>\n",
       "      <td>Tester</td>\n",
       "      <td>NaN</td>\n",
       "      <td>28.0</td>\n",
       "      <td>Male</td>\n",
       "    </tr>\n",
       "    <tr>\n",
       "      <th>3</th>\n",
       "      <td>Milind Dhawale</td>\n",
       "      <td>NaN</td>\n",
       "      <td>DS</td>\n",
       "      <td>120000.0</td>\n",
       "      <td>NaN</td>\n",
       "      <td>Male</td>\n",
       "    </tr>\n",
       "    <tr>\n",
       "      <th>4</th>\n",
       "      <td>Prasad Ganthade</td>\n",
       "      <td>Belgaum</td>\n",
       "      <td>Manager</td>\n",
       "      <td>500000.0</td>\n",
       "      <td>29.0</td>\n",
       "      <td>Male</td>\n",
       "    </tr>\n",
       "    <tr>\n",
       "      <th>5</th>\n",
       "      <td>Sadia Desai</td>\n",
       "      <td>Dubai</td>\n",
       "      <td>SE</td>\n",
       "      <td>340000.0</td>\n",
       "      <td>NaN</td>\n",
       "      <td>Female</td>\n",
       "    </tr>\n",
       "    <tr>\n",
       "      <th>6</th>\n",
       "      <td>Shilvanti Kale</td>\n",
       "      <td>NaN</td>\n",
       "      <td>SE</td>\n",
       "      <td>NaN</td>\n",
       "      <td>23.0</td>\n",
       "      <td>Female</td>\n",
       "    </tr>\n",
       "    <tr>\n",
       "      <th>7</th>\n",
       "      <td>Reva Jagtap</td>\n",
       "      <td>Karad</td>\n",
       "      <td>DS</td>\n",
       "      <td>NaN</td>\n",
       "      <td>NaN</td>\n",
       "      <td>Female</td>\n",
       "    </tr>\n",
       "  </tbody>\n",
       "</table>\n",
       "</div>"
      ],
      "text/plain": [
       "                 Name         Place     Post    Salary   Age  Gender\n",
       "0  Abhishek Ingulkaar          Pune       DS  345000.0   NaN    Male\n",
       "1         Ashwini Gat  Ichalkaranji    Admin       NaN  33.0  Female\n",
       "2        Gaurav Desai          Pune   Tester       NaN  28.0    Male\n",
       "3      Milind Dhawale           NaN       DS  120000.0   NaN    Male\n",
       "4     Prasad Ganthade       Belgaum  Manager  500000.0  29.0    Male\n",
       "5         Sadia Desai         Dubai       SE  340000.0   NaN  Female\n",
       "6      Shilvanti Kale           NaN       SE       NaN  23.0  Female\n",
       "7         Reva Jagtap         Karad       DS       NaN   NaN  Female"
      ]
     },
     "execution_count": 62,
     "metadata": {},
     "output_type": "execute_result"
    }
   ],
   "source": [
    "# few NaN are ok means it will accept that row \n",
    "# but if any row with all NaN then remove it\n",
    "df1.dropna(how='all')"
   ]
  },
  {
   "cell_type": "code",
   "execution_count": 66,
   "id": "d33d3750",
   "metadata": {},
   "outputs": [
    {
     "data": {
      "text/html": [
       "<div>\n",
       "<style scoped>\n",
       "    .dataframe tbody tr th:only-of-type {\n",
       "        vertical-align: middle;\n",
       "    }\n",
       "\n",
       "    .dataframe tbody tr th {\n",
       "        vertical-align: top;\n",
       "    }\n",
       "\n",
       "    .dataframe thead th {\n",
       "        text-align: right;\n",
       "    }\n",
       "</style>\n",
       "<table border=\"1\" class=\"dataframe\">\n",
       "  <thead>\n",
       "    <tr style=\"text-align: right;\">\n",
       "      <th></th>\n",
       "      <th>0</th>\n",
       "      <th>1</th>\n",
       "      <th>2</th>\n",
       "    </tr>\n",
       "  </thead>\n",
       "  <tbody>\n",
       "    <tr>\n",
       "      <th>0</th>\n",
       "      <td>NaN</td>\n",
       "      <td>NaN</td>\n",
       "      <td>NaN</td>\n",
       "    </tr>\n",
       "    <tr>\n",
       "      <th>1</th>\n",
       "      <td>NaN</td>\n",
       "      <td>NaN</td>\n",
       "      <td>10.0</td>\n",
       "    </tr>\n",
       "  </tbody>\n",
       "</table>\n",
       "</div>"
      ],
      "text/plain": [
       "    0   1     2\n",
       "0 NaN NaN   NaN\n",
       "1 NaN NaN  10.0"
      ]
     },
     "execution_count": 66,
     "metadata": {},
     "output_type": "execute_result"
    }
   ],
   "source": [
    "import numpy as np\n",
    "f = pd.DataFrame([[np.nan,np.nan,np.nan],[np.nan,np.nan,10]])\n",
    "f"
   ]
  },
  {
   "cell_type": "code",
   "execution_count": 67,
   "id": "cfa1e3e5",
   "metadata": {},
   "outputs": [
    {
     "data": {
      "text/html": [
       "<div>\n",
       "<style scoped>\n",
       "    .dataframe tbody tr th:only-of-type {\n",
       "        vertical-align: middle;\n",
       "    }\n",
       "\n",
       "    .dataframe tbody tr th {\n",
       "        vertical-align: top;\n",
       "    }\n",
       "\n",
       "    .dataframe thead th {\n",
       "        text-align: right;\n",
       "    }\n",
       "</style>\n",
       "<table border=\"1\" class=\"dataframe\">\n",
       "  <thead>\n",
       "    <tr style=\"text-align: right;\">\n",
       "      <th></th>\n",
       "      <th>0</th>\n",
       "      <th>1</th>\n",
       "      <th>2</th>\n",
       "    </tr>\n",
       "  </thead>\n",
       "  <tbody>\n",
       "    <tr>\n",
       "      <th>1</th>\n",
       "      <td>NaN</td>\n",
       "      <td>NaN</td>\n",
       "      <td>10.0</td>\n",
       "    </tr>\n",
       "  </tbody>\n",
       "</table>\n",
       "</div>"
      ],
      "text/plain": [
       "    0   1     2\n",
       "1 NaN NaN  10.0"
      ]
     },
     "execution_count": 67,
     "metadata": {},
     "output_type": "execute_result"
    }
   ],
   "source": [
    "f.dropna(how='all')"
   ]
  },
  {
   "cell_type": "code",
   "execution_count": 68,
   "id": "cf9e1fe9",
   "metadata": {},
   "outputs": [
    {
     "data": {
      "text/html": [
       "<div>\n",
       "<style scoped>\n",
       "    .dataframe tbody tr th:only-of-type {\n",
       "        vertical-align: middle;\n",
       "    }\n",
       "\n",
       "    .dataframe tbody tr th {\n",
       "        vertical-align: top;\n",
       "    }\n",
       "\n",
       "    .dataframe thead th {\n",
       "        text-align: right;\n",
       "    }\n",
       "</style>\n",
       "<table border=\"1\" class=\"dataframe\">\n",
       "  <thead>\n",
       "    <tr style=\"text-align: right;\">\n",
       "      <th></th>\n",
       "      <th>0</th>\n",
       "      <th>1</th>\n",
       "      <th>2</th>\n",
       "    </tr>\n",
       "  </thead>\n",
       "  <tbody>\n",
       "    <tr>\n",
       "      <th>0</th>\n",
       "      <td>NaN</td>\n",
       "      <td>NaN</td>\n",
       "      <td>NaN</td>\n",
       "    </tr>\n",
       "    <tr>\n",
       "      <th>1</th>\n",
       "      <td>NaN</td>\n",
       "      <td>NaN</td>\n",
       "      <td>10.0</td>\n",
       "    </tr>\n",
       "  </tbody>\n",
       "</table>\n",
       "</div>"
      ],
      "text/plain": [
       "    0   1     2\n",
       "0 NaN NaN   NaN\n",
       "1 NaN NaN  10.0"
      ]
     },
     "execution_count": 68,
     "metadata": {},
     "output_type": "execute_result"
    }
   ],
   "source": [
    "# default dropna works on rows\n",
    "#but if we want to make work on column then use axis\n",
    "f"
   ]
  },
  {
   "cell_type": "code",
   "execution_count": 69,
   "id": "eeb728b4",
   "metadata": {},
   "outputs": [
    {
     "data": {
      "text/html": [
       "<div>\n",
       "<style scoped>\n",
       "    .dataframe tbody tr th:only-of-type {\n",
       "        vertical-align: middle;\n",
       "    }\n",
       "\n",
       "    .dataframe tbody tr th {\n",
       "        vertical-align: top;\n",
       "    }\n",
       "\n",
       "    .dataframe thead th {\n",
       "        text-align: right;\n",
       "    }\n",
       "</style>\n",
       "<table border=\"1\" class=\"dataframe\">\n",
       "  <thead>\n",
       "    <tr style=\"text-align: right;\">\n",
       "      <th></th>\n",
       "    </tr>\n",
       "  </thead>\n",
       "  <tbody>\n",
       "    <tr>\n",
       "      <th>0</th>\n",
       "    </tr>\n",
       "    <tr>\n",
       "      <th>1</th>\n",
       "    </tr>\n",
       "  </tbody>\n",
       "</table>\n",
       "</div>"
      ],
      "text/plain": [
       "Empty DataFrame\n",
       "Columns: []\n",
       "Index: [0, 1]"
      ]
     },
     "execution_count": 69,
     "metadata": {},
     "output_type": "execute_result"
    }
   ],
   "source": [
    "f.dropna(axis=1) #how = 'any' hence there is no any column without NaN"
   ]
  },
  {
   "cell_type": "code",
   "execution_count": 70,
   "id": "cd6f4db0",
   "metadata": {},
   "outputs": [
    {
     "data": {
      "text/html": [
       "<div>\n",
       "<style scoped>\n",
       "    .dataframe tbody tr th:only-of-type {\n",
       "        vertical-align: middle;\n",
       "    }\n",
       "\n",
       "    .dataframe tbody tr th {\n",
       "        vertical-align: top;\n",
       "    }\n",
       "\n",
       "    .dataframe thead th {\n",
       "        text-align: right;\n",
       "    }\n",
       "</style>\n",
       "<table border=\"1\" class=\"dataframe\">\n",
       "  <thead>\n",
       "    <tr style=\"text-align: right;\">\n",
       "      <th></th>\n",
       "      <th>2</th>\n",
       "    </tr>\n",
       "  </thead>\n",
       "  <tbody>\n",
       "    <tr>\n",
       "      <th>0</th>\n",
       "      <td>NaN</td>\n",
       "    </tr>\n",
       "    <tr>\n",
       "      <th>1</th>\n",
       "      <td>10.0</td>\n",
       "    </tr>\n",
       "  </tbody>\n",
       "</table>\n",
       "</div>"
      ],
      "text/plain": [
       "      2\n",
       "0   NaN\n",
       "1  10.0"
      ]
     },
     "execution_count": 70,
     "metadata": {},
     "output_type": "execute_result"
    }
   ],
   "source": [
    "f.dropna(axis=1,how='all')"
   ]
  },
  {
   "cell_type": "markdown",
   "id": "06aebfa5",
   "metadata": {},
   "source": [
    "### Plot missing data"
   ]
  },
  {
   "cell_type": "code",
   "execution_count": 73,
   "id": "0922ad28",
   "metadata": {},
   "outputs": [
    {
     "data": {
      "text/plain": [
       "<AxesSubplot:>"
      ]
     },
     "execution_count": 73,
     "metadata": {},
     "output_type": "execute_result"
    },
    {
     "data": {
      "image/png": "[encoded data removed]",
      "text/plain": [
       "<Figure size 432x288 with 2 Axes>"
      ]
     },
     "metadata": {
      "needs_background": "light"
     },
     "output_type": "display_data"
    }
   ],
   "source": [
    "import seaborn as sns\n",
    "sns.heatmap(df1.isna())"
   ]
  },
  {
   "cell_type": "code",
   "execution_count": null,
   "id": "9fb923d0",
   "metadata": {},
   "outputs": [],
   "source": []
  }
 ],
 "metadata": {
  "kernelspec": {
   "display_name": "Python 3 (ipykernel)",
   "language": "python",
   "name": "python3"
  },
  "language_info": {
   "codemirror_mode": {
    "name": "ipython",
    "version": 3
   },
   "file_extension": ".py",
   "mimetype": "text/x-python",
   "name": "python",
   "nbconvert_exporter": "python",
   "pygments_lexer": "ipython3",
   "version": "3.9.7"
  }
 },
 "nbformat": 4,
 "nbformat_minor": 5
}
