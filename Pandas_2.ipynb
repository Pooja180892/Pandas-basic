{
 "cells": [
  {
   "cell_type": "code",
   "execution_count": 1,
   "id": "df8be274",
   "metadata": {},
   "outputs": [],
   "source": [
    "import pandas as pd"
   ]
  },
  {
   "cell_type": "code",
   "execution_count": 4,
   "id": "571b1c33",
   "metadata": {},
   "outputs": [
    {
     "data": {
      "text/html": [
       "<div>\n",
       "<style scoped>\n",
       "    .dataframe tbody tr th:only-of-type {\n",
       "        vertical-align: middle;\n",
       "    }\n",
       "\n",
       "    .dataframe tbody tr th {\n",
       "        vertical-align: top;\n",
       "    }\n",
       "\n",
       "    .dataframe thead th {\n",
       "        text-align: right;\n",
       "    }\n",
       "</style>\n",
       "<table border=\"1\" class=\"dataframe\">\n",
       "  <thead>\n",
       "    <tr style=\"text-align: right;\">\n",
       "      <th></th>\n",
       "      <th>Name</th>\n",
       "      <th>Place</th>\n",
       "      <th>Post</th>\n",
       "      <th>Salary</th>\n",
       "      <th>Age</th>\n",
       "      <th>Gender</th>\n",
       "    </tr>\n",
       "  </thead>\n",
       "  <tbody>\n",
       "    <tr>\n",
       "      <th>0</th>\n",
       "      <td>Abhishek Ingulkaar</td>\n",
       "      <td>Pune</td>\n",
       "      <td>DS</td>\n",
       "      <td>345000</td>\n",
       "      <td>25</td>\n",
       "      <td>Male</td>\n",
       "    </tr>\n",
       "    <tr>\n",
       "      <th>1</th>\n",
       "      <td>Ashwini Gat</td>\n",
       "      <td>Ichalkaranji</td>\n",
       "      <td>Admin</td>\n",
       "      <td>45000</td>\n",
       "      <td>33</td>\n",
       "      <td>Female</td>\n",
       "    </tr>\n",
       "    <tr>\n",
       "      <th>2</th>\n",
       "      <td>Gaurav Desai</td>\n",
       "      <td>Pune</td>\n",
       "      <td>Tester</td>\n",
       "      <td>80000</td>\n",
       "      <td>28</td>\n",
       "      <td>Male</td>\n",
       "    </tr>\n",
       "    <tr>\n",
       "      <th>3</th>\n",
       "      <td>Milind Dhawale</td>\n",
       "      <td>Thane</td>\n",
       "      <td>DS</td>\n",
       "      <td>120000</td>\n",
       "      <td>23</td>\n",
       "      <td>Male</td>\n",
       "    </tr>\n",
       "    <tr>\n",
       "      <th>4</th>\n",
       "      <td>Prasad Ganthade</td>\n",
       "      <td>Belgaum</td>\n",
       "      <td>Manager</td>\n",
       "      <td>500000</td>\n",
       "      <td>29</td>\n",
       "      <td>Male</td>\n",
       "    </tr>\n",
       "    <tr>\n",
       "      <th>5</th>\n",
       "      <td>Sadia Desai</td>\n",
       "      <td>Dubai</td>\n",
       "      <td>SE</td>\n",
       "      <td>340000</td>\n",
       "      <td>31</td>\n",
       "      <td>Female</td>\n",
       "    </tr>\n",
       "    <tr>\n",
       "      <th>6</th>\n",
       "      <td>Shilvanti Kale</td>\n",
       "      <td>Sangli</td>\n",
       "      <td>SE</td>\n",
       "      <td>68000</td>\n",
       "      <td>23</td>\n",
       "      <td>Female</td>\n",
       "    </tr>\n",
       "    <tr>\n",
       "      <th>7</th>\n",
       "      <td>Reva Jagtap</td>\n",
       "      <td>Karad</td>\n",
       "      <td>DS</td>\n",
       "      <td>50000</td>\n",
       "      <td>28</td>\n",
       "      <td>Female</td>\n",
       "    </tr>\n",
       "  </tbody>\n",
       "</table>\n",
       "</div>"
      ],
      "text/plain": [
       "                 Name         Place     Post  Salary  Age  Gender\n",
       "0  Abhishek Ingulkaar          Pune       DS  345000   25    Male\n",
       "1         Ashwini Gat  Ichalkaranji    Admin   45000   33  Female\n",
       "2        Gaurav Desai          Pune   Tester   80000   28    Male\n",
       "3      Milind Dhawale         Thane       DS  120000   23    Male\n",
       "4     Prasad Ganthade       Belgaum  Manager  500000   29    Male\n",
       "5         Sadia Desai         Dubai       SE  340000   31  Female\n",
       "6      Shilvanti Kale        Sangli       SE   68000   23  Female\n",
       "7         Reva Jagtap         Karad       DS   50000   28  Female"
      ]
     },
     "execution_count": 4,
     "metadata": {},
     "output_type": "execute_result"
    }
   ],
   "source": [
    "df = pd.read_excel(r'C:\\Users\\hakim\\OneDrive\\Desktop\\batch_21.xlsx')\n",
    "df"
   ]
  },
  {
   "cell_type": "markdown",
   "id": "d9360395",
   "metadata": {},
   "source": [
    "## fetch top 5 records"
   ]
  },
  {
   "cell_type": "code",
   "execution_count": 5,
   "id": "0cc249ef",
   "metadata": {},
   "outputs": [
    {
     "data": {
      "text/html": [
       "<div>\n",
       "<style scoped>\n",
       "    .dataframe tbody tr th:only-of-type {\n",
       "        vertical-align: middle;\n",
       "    }\n",
       "\n",
       "    .dataframe tbody tr th {\n",
       "        vertical-align: top;\n",
       "    }\n",
       "\n",
       "    .dataframe thead th {\n",
       "        text-align: right;\n",
       "    }\n",
       "</style>\n",
       "<table border=\"1\" class=\"dataframe\">\n",
       "  <thead>\n",
       "    <tr style=\"text-align: right;\">\n",
       "      <th></th>\n",
       "      <th>Name</th>\n",
       "      <th>Place</th>\n",
       "      <th>Post</th>\n",
       "      <th>Salary</th>\n",
       "      <th>Age</th>\n",
       "      <th>Gender</th>\n",
       "    </tr>\n",
       "  </thead>\n",
       "  <tbody>\n",
       "    <tr>\n",
       "      <th>0</th>\n",
       "      <td>Abhishek Ingulkaar</td>\n",
       "      <td>Pune</td>\n",
       "      <td>DS</td>\n",
       "      <td>345000</td>\n",
       "      <td>25</td>\n",
       "      <td>Male</td>\n",
       "    </tr>\n",
       "    <tr>\n",
       "      <th>1</th>\n",
       "      <td>Ashwini Gat</td>\n",
       "      <td>Ichalkaranji</td>\n",
       "      <td>Admin</td>\n",
       "      <td>45000</td>\n",
       "      <td>33</td>\n",
       "      <td>Female</td>\n",
       "    </tr>\n",
       "    <tr>\n",
       "      <th>2</th>\n",
       "      <td>Gaurav Desai</td>\n",
       "      <td>Pune</td>\n",
       "      <td>Tester</td>\n",
       "      <td>80000</td>\n",
       "      <td>28</td>\n",
       "      <td>Male</td>\n",
       "    </tr>\n",
       "    <tr>\n",
       "      <th>3</th>\n",
       "      <td>Milind Dhawale</td>\n",
       "      <td>Thane</td>\n",
       "      <td>DS</td>\n",
       "      <td>120000</td>\n",
       "      <td>23</td>\n",
       "      <td>Male</td>\n",
       "    </tr>\n",
       "    <tr>\n",
       "      <th>4</th>\n",
       "      <td>Prasad Ganthade</td>\n",
       "      <td>Belgaum</td>\n",
       "      <td>Manager</td>\n",
       "      <td>500000</td>\n",
       "      <td>29</td>\n",
       "      <td>Male</td>\n",
       "    </tr>\n",
       "  </tbody>\n",
       "</table>\n",
       "</div>"
      ],
      "text/plain": [
       "                 Name         Place     Post  Salary  Age  Gender\n",
       "0  Abhishek Ingulkaar          Pune       DS  345000   25    Male\n",
       "1         Ashwini Gat  Ichalkaranji    Admin   45000   33  Female\n",
       "2        Gaurav Desai          Pune   Tester   80000   28    Male\n",
       "3      Milind Dhawale         Thane       DS  120000   23    Male\n",
       "4     Prasad Ganthade       Belgaum  Manager  500000   29    Male"
      ]
     },
     "execution_count": 5,
     "metadata": {},
     "output_type": "execute_result"
    }
   ],
   "source": [
    "df.head()"
   ]
  },
  {
   "cell_type": "markdown",
   "id": "0f7ac7f9",
   "metadata": {},
   "source": [
    "## fetch last 5 records"
   ]
  },
  {
   "cell_type": "code",
   "execution_count": 6,
   "id": "455d9926",
   "metadata": {},
   "outputs": [
    {
     "data": {
      "text/html": [
       "<div>\n",
       "<style scoped>\n",
       "    .dataframe tbody tr th:only-of-type {\n",
       "        vertical-align: middle;\n",
       "    }\n",
       "\n",
       "    .dataframe tbody tr th {\n",
       "        vertical-align: top;\n",
       "    }\n",
       "\n",
       "    .dataframe thead th {\n",
       "        text-align: right;\n",
       "    }\n",
       "</style>\n",
       "<table border=\"1\" class=\"dataframe\">\n",
       "  <thead>\n",
       "    <tr style=\"text-align: right;\">\n",
       "      <th></th>\n",
       "      <th>Name</th>\n",
       "      <th>Place</th>\n",
       "      <th>Post</th>\n",
       "      <th>Salary</th>\n",
       "      <th>Age</th>\n",
       "      <th>Gender</th>\n",
       "    </tr>\n",
       "  </thead>\n",
       "  <tbody>\n",
       "    <tr>\n",
       "      <th>3</th>\n",
       "      <td>Milind Dhawale</td>\n",
       "      <td>Thane</td>\n",
       "      <td>DS</td>\n",
       "      <td>120000</td>\n",
       "      <td>23</td>\n",
       "      <td>Male</td>\n",
       "    </tr>\n",
       "    <tr>\n",
       "      <th>4</th>\n",
       "      <td>Prasad Ganthade</td>\n",
       "      <td>Belgaum</td>\n",
       "      <td>Manager</td>\n",
       "      <td>500000</td>\n",
       "      <td>29</td>\n",
       "      <td>Male</td>\n",
       "    </tr>\n",
       "    <tr>\n",
       "      <th>5</th>\n",
       "      <td>Sadia Desai</td>\n",
       "      <td>Dubai</td>\n",
       "      <td>SE</td>\n",
       "      <td>340000</td>\n",
       "      <td>31</td>\n",
       "      <td>Female</td>\n",
       "    </tr>\n",
       "    <tr>\n",
       "      <th>6</th>\n",
       "      <td>Shilvanti Kale</td>\n",
       "      <td>Sangli</td>\n",
       "      <td>SE</td>\n",
       "      <td>68000</td>\n",
       "      <td>23</td>\n",
       "      <td>Female</td>\n",
       "    </tr>\n",
       "    <tr>\n",
       "      <th>7</th>\n",
       "      <td>Reva Jagtap</td>\n",
       "      <td>Karad</td>\n",
       "      <td>DS</td>\n",
       "      <td>50000</td>\n",
       "      <td>28</td>\n",
       "      <td>Female</td>\n",
       "    </tr>\n",
       "  </tbody>\n",
       "</table>\n",
       "</div>"
      ],
      "text/plain": [
       "              Name    Place     Post  Salary  Age  Gender\n",
       "3   Milind Dhawale    Thane       DS  120000   23    Male\n",
       "4  Prasad Ganthade  Belgaum  Manager  500000   29    Male\n",
       "5      Sadia Desai    Dubai       SE  340000   31  Female\n",
       "6   Shilvanti Kale   Sangli       SE   68000   23  Female\n",
       "7      Reva Jagtap    Karad       DS   50000   28  Female"
      ]
     },
     "execution_count": 6,
     "metadata": {},
     "output_type": "execute_result"
    }
   ],
   "source": [
    "df.tail()"
   ]
  },
  {
   "cell_type": "markdown",
   "id": "c7820c6b",
   "metadata": {},
   "source": [
    "## fetch name column"
   ]
  },
  {
   "cell_type": "code",
   "execution_count": 8,
   "id": "1bb77c70",
   "metadata": {},
   "outputs": [
    {
     "data": {
      "text/plain": [
       "0    Abhishek Ingulkaar\n",
       "1           Ashwini Gat\n",
       "2          Gaurav Desai\n",
       "3        Milind Dhawale\n",
       "4       Prasad Ganthade\n",
       "5           Sadia Desai\n",
       "6        Shilvanti Kale\n",
       "7           Reva Jagtap\n",
       "Name: Name, dtype: object"
      ]
     },
     "execution_count": 8,
     "metadata": {},
     "output_type": "execute_result"
    }
   ],
   "source": [
    "df.Name #==> Series"
   ]
  },
  {
   "cell_type": "code",
   "execution_count": 9,
   "id": "c787dc12",
   "metadata": {},
   "outputs": [
    {
     "data": {
      "text/plain": [
       "0    Abhishek Ingulkaar\n",
       "1           Ashwini Gat\n",
       "2          Gaurav Desai\n",
       "3        Milind Dhawale\n",
       "4       Prasad Ganthade\n",
       "5           Sadia Desai\n",
       "6        Shilvanti Kale\n",
       "7           Reva Jagtap\n",
       "Name: Name, dtype: object"
      ]
     },
     "execution_count": 9,
     "metadata": {},
     "output_type": "execute_result"
    }
   ],
   "source": [
    "df['Name']#==> Series"
   ]
  },
  {
   "cell_type": "code",
   "execution_count": 10,
   "id": "fceca47e",
   "metadata": {},
   "outputs": [
    {
     "data": {
      "text/html": [
       "<div>\n",
       "<style scoped>\n",
       "    .dataframe tbody tr th:only-of-type {\n",
       "        vertical-align: middle;\n",
       "    }\n",
       "\n",
       "    .dataframe tbody tr th {\n",
       "        vertical-align: top;\n",
       "    }\n",
       "\n",
       "    .dataframe thead th {\n",
       "        text-align: right;\n",
       "    }\n",
       "</style>\n",
       "<table border=\"1\" class=\"dataframe\">\n",
       "  <thead>\n",
       "    <tr style=\"text-align: right;\">\n",
       "      <th></th>\n",
       "      <th>Name</th>\n",
       "    </tr>\n",
       "  </thead>\n",
       "  <tbody>\n",
       "    <tr>\n",
       "      <th>0</th>\n",
       "      <td>Abhishek Ingulkaar</td>\n",
       "    </tr>\n",
       "    <tr>\n",
       "      <th>1</th>\n",
       "      <td>Ashwini Gat</td>\n",
       "    </tr>\n",
       "    <tr>\n",
       "      <th>2</th>\n",
       "      <td>Gaurav Desai</td>\n",
       "    </tr>\n",
       "    <tr>\n",
       "      <th>3</th>\n",
       "      <td>Milind Dhawale</td>\n",
       "    </tr>\n",
       "    <tr>\n",
       "      <th>4</th>\n",
       "      <td>Prasad Ganthade</td>\n",
       "    </tr>\n",
       "    <tr>\n",
       "      <th>5</th>\n",
       "      <td>Sadia Desai</td>\n",
       "    </tr>\n",
       "    <tr>\n",
       "      <th>6</th>\n",
       "      <td>Shilvanti Kale</td>\n",
       "    </tr>\n",
       "    <tr>\n",
       "      <th>7</th>\n",
       "      <td>Reva Jagtap</td>\n",
       "    </tr>\n",
       "  </tbody>\n",
       "</table>\n",
       "</div>"
      ],
      "text/plain": [
       "                 Name\n",
       "0  Abhishek Ingulkaar\n",
       "1         Ashwini Gat\n",
       "2        Gaurav Desai\n",
       "3      Milind Dhawale\n",
       "4     Prasad Ganthade\n",
       "5         Sadia Desai\n",
       "6      Shilvanti Kale\n",
       "7         Reva Jagtap"
      ]
     },
     "execution_count": 10,
     "metadata": {},
     "output_type": "execute_result"
    }
   ],
   "source": [
    "df[['Name']] #==> DF"
   ]
  },
  {
   "cell_type": "markdown",
   "id": "e446f561",
   "metadata": {},
   "source": [
    "## Create 2 new columns for firstname and Last name"
   ]
  },
  {
   "cell_type": "code",
   "execution_count": 13,
   "id": "f6dac682",
   "metadata": {},
   "outputs": [
    {
     "data": {
      "text/html": [
       "<div>\n",
       "<style scoped>\n",
       "    .dataframe tbody tr th:only-of-type {\n",
       "        vertical-align: middle;\n",
       "    }\n",
       "\n",
       "    .dataframe tbody tr th {\n",
       "        vertical-align: top;\n",
       "    }\n",
       "\n",
       "    .dataframe thead th {\n",
       "        text-align: right;\n",
       "    }\n",
       "</style>\n",
       "<table border=\"1\" class=\"dataframe\">\n",
       "  <thead>\n",
       "    <tr style=\"text-align: right;\">\n",
       "      <th></th>\n",
       "      <th>0</th>\n",
       "      <th>1</th>\n",
       "    </tr>\n",
       "  </thead>\n",
       "  <tbody>\n",
       "    <tr>\n",
       "      <th>0</th>\n",
       "      <td>Abhishek</td>\n",
       "      <td>Ingulkaar</td>\n",
       "    </tr>\n",
       "    <tr>\n",
       "      <th>1</th>\n",
       "      <td>Ashwini</td>\n",
       "      <td>Gat</td>\n",
       "    </tr>\n",
       "    <tr>\n",
       "      <th>2</th>\n",
       "      <td>Gaurav</td>\n",
       "      <td>Desai</td>\n",
       "    </tr>\n",
       "    <tr>\n",
       "      <th>3</th>\n",
       "      <td>Milind</td>\n",
       "      <td>Dhawale</td>\n",
       "    </tr>\n",
       "    <tr>\n",
       "      <th>4</th>\n",
       "      <td>Prasad</td>\n",
       "      <td>Ganthade</td>\n",
       "    </tr>\n",
       "    <tr>\n",
       "      <th>5</th>\n",
       "      <td>Sadia</td>\n",
       "      <td>Desai</td>\n",
       "    </tr>\n",
       "    <tr>\n",
       "      <th>6</th>\n",
       "      <td>Shilvanti</td>\n",
       "      <td>Kale</td>\n",
       "    </tr>\n",
       "    <tr>\n",
       "      <th>7</th>\n",
       "      <td>Reva</td>\n",
       "      <td>Jagtap</td>\n",
       "    </tr>\n",
       "  </tbody>\n",
       "</table>\n",
       "</div>"
      ],
      "text/plain": [
       "           0          1\n",
       "0   Abhishek  Ingulkaar\n",
       "1    Ashwini        Gat\n",
       "2     Gaurav      Desai\n",
       "3     Milind    Dhawale\n",
       "4     Prasad   Ganthade\n",
       "5      Sadia      Desai\n",
       "6  Shilvanti       Kale\n",
       "7       Reva     Jagtap"
      ]
     },
     "execution_count": 13,
     "metadata": {},
     "output_type": "execute_result"
    }
   ],
   "source": [
    "df.Name.str.split(' ',expand=True)"
   ]
  },
  {
   "cell_type": "code",
   "execution_count": 15,
   "id": "ac2a13f3",
   "metadata": {},
   "outputs": [
    {
     "data": {
      "text/plain": [
       "0    ABC-123\n",
       "1    PQR-456\n",
       "dtype: object"
      ]
     },
     "execution_count": 15,
     "metadata": {},
     "output_type": "execute_result"
    }
   ],
   "source": [
    "s = pd.Series(['ABC-123','PQR-456'])\n",
    "s"
   ]
  },
  {
   "cell_type": "code",
   "execution_count": 16,
   "id": "0b29eda4",
   "metadata": {},
   "outputs": [
    {
     "data": {
      "text/html": [
       "<div>\n",
       "<style scoped>\n",
       "    .dataframe tbody tr th:only-of-type {\n",
       "        vertical-align: middle;\n",
       "    }\n",
       "\n",
       "    .dataframe tbody tr th {\n",
       "        vertical-align: top;\n",
       "    }\n",
       "\n",
       "    .dataframe thead th {\n",
       "        text-align: right;\n",
       "    }\n",
       "</style>\n",
       "<table border=\"1\" class=\"dataframe\">\n",
       "  <thead>\n",
       "    <tr style=\"text-align: right;\">\n",
       "      <th></th>\n",
       "      <th>0</th>\n",
       "      <th>1</th>\n",
       "    </tr>\n",
       "  </thead>\n",
       "  <tbody>\n",
       "    <tr>\n",
       "      <th>0</th>\n",
       "      <td>ABC</td>\n",
       "      <td>123</td>\n",
       "    </tr>\n",
       "    <tr>\n",
       "      <th>1</th>\n",
       "      <td>PQR</td>\n",
       "      <td>456</td>\n",
       "    </tr>\n",
       "  </tbody>\n",
       "</table>\n",
       "</div>"
      ],
      "text/plain": [
       "     0    1\n",
       "0  ABC  123\n",
       "1  PQR  456"
      ]
     },
     "execution_count": 16,
     "metadata": {},
     "output_type": "execute_result"
    }
   ],
   "source": [
    "s.str.split('-',expand=True)"
   ]
  },
  {
   "cell_type": "code",
   "execution_count": 19,
   "id": "cdcedbdc",
   "metadata": {},
   "outputs": [
    {
     "data": {
      "text/plain": [
       "0    ABC-123\n",
       "1    PQR:456\n",
       "dtype: object"
      ]
     },
     "execution_count": 19,
     "metadata": {},
     "output_type": "execute_result"
    }
   ],
   "source": [
    "s = pd.Series(['ABC-123','PQR:456'])\n",
    "s"
   ]
  },
  {
   "cell_type": "code",
   "execution_count": 21,
   "id": "70a59c95",
   "metadata": {},
   "outputs": [
    {
     "data": {
      "text/html": [
       "<div>\n",
       "<style scoped>\n",
       "    .dataframe tbody tr th:only-of-type {\n",
       "        vertical-align: middle;\n",
       "    }\n",
       "\n",
       "    .dataframe tbody tr th {\n",
       "        vertical-align: top;\n",
       "    }\n",
       "\n",
       "    .dataframe thead th {\n",
       "        text-align: right;\n",
       "    }\n",
       "</style>\n",
       "<table border=\"1\" class=\"dataframe\">\n",
       "  <thead>\n",
       "    <tr style=\"text-align: right;\">\n",
       "      <th></th>\n",
       "      <th>0</th>\n",
       "      <th>1</th>\n",
       "    </tr>\n",
       "  </thead>\n",
       "  <tbody>\n",
       "    <tr>\n",
       "      <th>0</th>\n",
       "      <td>ABC</td>\n",
       "      <td>123</td>\n",
       "    </tr>\n",
       "    <tr>\n",
       "      <th>1</th>\n",
       "      <td>PQR</td>\n",
       "      <td>456</td>\n",
       "    </tr>\n",
       "  </tbody>\n",
       "</table>\n",
       "</div>"
      ],
      "text/plain": [
       "     0    1\n",
       "0  ABC  123\n",
       "1  PQR  456"
      ]
     },
     "execution_count": 21,
     "metadata": {},
     "output_type": "execute_result"
    }
   ],
   "source": [
    "s.str.replace(':','-').str.split('-',expand=True)"
   ]
  },
  {
   "cell_type": "markdown",
   "id": "a1f8433b",
   "metadata": {},
   "source": [
    "## Select name and salary columns"
   ]
  },
  {
   "cell_type": "code",
   "execution_count": 22,
   "id": "bd1a0389",
   "metadata": {},
   "outputs": [
    {
     "data": {
      "text/html": [
       "<div>\n",
       "<style scoped>\n",
       "    .dataframe tbody tr th:only-of-type {\n",
       "        vertical-align: middle;\n",
       "    }\n",
       "\n",
       "    .dataframe tbody tr th {\n",
       "        vertical-align: top;\n",
       "    }\n",
       "\n",
       "    .dataframe thead th {\n",
       "        text-align: right;\n",
       "    }\n",
       "</style>\n",
       "<table border=\"1\" class=\"dataframe\">\n",
       "  <thead>\n",
       "    <tr style=\"text-align: right;\">\n",
       "      <th></th>\n",
       "      <th>Name</th>\n",
       "      <th>Salary</th>\n",
       "    </tr>\n",
       "  </thead>\n",
       "  <tbody>\n",
       "    <tr>\n",
       "      <th>0</th>\n",
       "      <td>Abhishek Ingulkaar</td>\n",
       "      <td>345000</td>\n",
       "    </tr>\n",
       "    <tr>\n",
       "      <th>1</th>\n",
       "      <td>Ashwini Gat</td>\n",
       "      <td>45000</td>\n",
       "    </tr>\n",
       "    <tr>\n",
       "      <th>2</th>\n",
       "      <td>Gaurav Desai</td>\n",
       "      <td>80000</td>\n",
       "    </tr>\n",
       "    <tr>\n",
       "      <th>3</th>\n",
       "      <td>Milind Dhawale</td>\n",
       "      <td>120000</td>\n",
       "    </tr>\n",
       "    <tr>\n",
       "      <th>4</th>\n",
       "      <td>Prasad Ganthade</td>\n",
       "      <td>500000</td>\n",
       "    </tr>\n",
       "    <tr>\n",
       "      <th>5</th>\n",
       "      <td>Sadia Desai</td>\n",
       "      <td>340000</td>\n",
       "    </tr>\n",
       "    <tr>\n",
       "      <th>6</th>\n",
       "      <td>Shilvanti Kale</td>\n",
       "      <td>68000</td>\n",
       "    </tr>\n",
       "    <tr>\n",
       "      <th>7</th>\n",
       "      <td>Reva Jagtap</td>\n",
       "      <td>50000</td>\n",
       "    </tr>\n",
       "  </tbody>\n",
       "</table>\n",
       "</div>"
      ],
      "text/plain": [
       "                 Name  Salary\n",
       "0  Abhishek Ingulkaar  345000\n",
       "1         Ashwini Gat   45000\n",
       "2        Gaurav Desai   80000\n",
       "3      Milind Dhawale  120000\n",
       "4     Prasad Ganthade  500000\n",
       "5         Sadia Desai  340000\n",
       "6      Shilvanti Kale   68000\n",
       "7         Reva Jagtap   50000"
      ]
     },
     "execution_count": 22,
     "metadata": {},
     "output_type": "execute_result"
    }
   ],
   "source": [
    "df[['Name','Salary']]"
   ]
  },
  {
   "cell_type": "code",
   "execution_count": 27,
   "id": "c8f093e3",
   "metadata": {},
   "outputs": [
    {
     "data": {
      "text/html": [
       "<div>\n",
       "<style scoped>\n",
       "    .dataframe tbody tr th:only-of-type {\n",
       "        vertical-align: middle;\n",
       "    }\n",
       "\n",
       "    .dataframe tbody tr th {\n",
       "        vertical-align: top;\n",
       "    }\n",
       "\n",
       "    .dataframe thead th {\n",
       "        text-align: right;\n",
       "    }\n",
       "</style>\n",
       "<table border=\"1\" class=\"dataframe\">\n",
       "  <thead>\n",
       "    <tr style=\"text-align: right;\">\n",
       "      <th></th>\n",
       "      <th>Salary</th>\n",
       "      <th>Name</th>\n",
       "      <th>Age</th>\n",
       "    </tr>\n",
       "  </thead>\n",
       "  <tbody>\n",
       "    <tr>\n",
       "      <th>0</th>\n",
       "      <td>345000</td>\n",
       "      <td>Abhishek Ingulkaar</td>\n",
       "      <td>25</td>\n",
       "    </tr>\n",
       "    <tr>\n",
       "      <th>1</th>\n",
       "      <td>45000</td>\n",
       "      <td>Ashwini Gat</td>\n",
       "      <td>33</td>\n",
       "    </tr>\n",
       "    <tr>\n",
       "      <th>2</th>\n",
       "      <td>80000</td>\n",
       "      <td>Gaurav Desai</td>\n",
       "      <td>28</td>\n",
       "    </tr>\n",
       "    <tr>\n",
       "      <th>3</th>\n",
       "      <td>120000</td>\n",
       "      <td>Milind Dhawale</td>\n",
       "      <td>23</td>\n",
       "    </tr>\n",
       "    <tr>\n",
       "      <th>4</th>\n",
       "      <td>500000</td>\n",
       "      <td>Prasad Ganthade</td>\n",
       "      <td>29</td>\n",
       "    </tr>\n",
       "    <tr>\n",
       "      <th>5</th>\n",
       "      <td>340000</td>\n",
       "      <td>Sadia Desai</td>\n",
       "      <td>31</td>\n",
       "    </tr>\n",
       "    <tr>\n",
       "      <th>6</th>\n",
       "      <td>68000</td>\n",
       "      <td>Shilvanti Kale</td>\n",
       "      <td>23</td>\n",
       "    </tr>\n",
       "    <tr>\n",
       "      <th>7</th>\n",
       "      <td>50000</td>\n",
       "      <td>Reva Jagtap</td>\n",
       "      <td>28</td>\n",
       "    </tr>\n",
       "  </tbody>\n",
       "</table>\n",
       "</div>"
      ],
      "text/plain": [
       "   Salary                Name  Age\n",
       "0  345000  Abhishek Ingulkaar   25\n",
       "1   45000         Ashwini Gat   33\n",
       "2   80000        Gaurav Desai   28\n",
       "3  120000      Milind Dhawale   23\n",
       "4  500000     Prasad Ganthade   29\n",
       "5  340000         Sadia Desai   31\n",
       "6   68000      Shilvanti Kale   23\n",
       "7   50000         Reva Jagtap   28"
      ]
     },
     "execution_count": 27,
     "metadata": {},
     "output_type": "execute_result"
    }
   ],
   "source": [
    "# u can alter sequence\n",
    "df[['Salary','Name','Age']]"
   ]
  },
  {
   "cell_type": "code",
   "execution_count": 28,
   "id": "30c1a425",
   "metadata": {},
   "outputs": [
    {
     "data": {
      "text/plain": [
       "Index(['Name', 'Place', 'Post', 'Salary', 'Age', 'Gender'], dtype='object')"
      ]
     },
     "execution_count": 28,
     "metadata": {},
     "output_type": "execute_result"
    }
   ],
   "source": [
    "# if we have so many columns then to avoid mistakes and to make work simple\n",
    "# check column list\n",
    "df.columns"
   ]
  },
  {
   "cell_type": "markdown",
   "id": "4ba4cda0",
   "metadata": {},
   "source": [
    "## access 'Name', 'Place', 'Post'"
   ]
  },
  {
   "cell_type": "code",
   "execution_count": null,
   "id": "a054f087",
   "metadata": {},
   "outputs": [],
   "source": [
    "#to select multiple columns\n",
    "#we can use loc: location based selection/ label based selection"
   ]
  },
  {
   "cell_type": "code",
   "execution_count": 29,
   "id": "687d4a6a",
   "metadata": {},
   "outputs": [
    {
     "data": {
      "text/html": [
       "<div>\n",
       "<style scoped>\n",
       "    .dataframe tbody tr th:only-of-type {\n",
       "        vertical-align: middle;\n",
       "    }\n",
       "\n",
       "    .dataframe tbody tr th {\n",
       "        vertical-align: top;\n",
       "    }\n",
       "\n",
       "    .dataframe thead th {\n",
       "        text-align: right;\n",
       "    }\n",
       "</style>\n",
       "<table border=\"1\" class=\"dataframe\">\n",
       "  <thead>\n",
       "    <tr style=\"text-align: right;\">\n",
       "      <th></th>\n",
       "      <th>Name</th>\n",
       "      <th>Place</th>\n",
       "      <th>Post</th>\n",
       "    </tr>\n",
       "  </thead>\n",
       "  <tbody>\n",
       "    <tr>\n",
       "      <th>0</th>\n",
       "      <td>Abhishek Ingulkaar</td>\n",
       "      <td>Pune</td>\n",
       "      <td>DS</td>\n",
       "    </tr>\n",
       "    <tr>\n",
       "      <th>1</th>\n",
       "      <td>Ashwini Gat</td>\n",
       "      <td>Ichalkaranji</td>\n",
       "      <td>Admin</td>\n",
       "    </tr>\n",
       "    <tr>\n",
       "      <th>2</th>\n",
       "      <td>Gaurav Desai</td>\n",
       "      <td>Pune</td>\n",
       "      <td>Tester</td>\n",
       "    </tr>\n",
       "    <tr>\n",
       "      <th>3</th>\n",
       "      <td>Milind Dhawale</td>\n",
       "      <td>Thane</td>\n",
       "      <td>DS</td>\n",
       "    </tr>\n",
       "    <tr>\n",
       "      <th>4</th>\n",
       "      <td>Prasad Ganthade</td>\n",
       "      <td>Belgaum</td>\n",
       "      <td>Manager</td>\n",
       "    </tr>\n",
       "    <tr>\n",
       "      <th>5</th>\n",
       "      <td>Sadia Desai</td>\n",
       "      <td>Dubai</td>\n",
       "      <td>SE</td>\n",
       "    </tr>\n",
       "    <tr>\n",
       "      <th>6</th>\n",
       "      <td>Shilvanti Kale</td>\n",
       "      <td>Sangli</td>\n",
       "      <td>SE</td>\n",
       "    </tr>\n",
       "    <tr>\n",
       "      <th>7</th>\n",
       "      <td>Reva Jagtap</td>\n",
       "      <td>Karad</td>\n",
       "      <td>DS</td>\n",
       "    </tr>\n",
       "  </tbody>\n",
       "</table>\n",
       "</div>"
      ],
      "text/plain": [
       "                 Name         Place     Post\n",
       "0  Abhishek Ingulkaar          Pune       DS\n",
       "1         Ashwini Gat  Ichalkaranji    Admin\n",
       "2        Gaurav Desai          Pune   Tester\n",
       "3      Milind Dhawale         Thane       DS\n",
       "4     Prasad Ganthade       Belgaum  Manager\n",
       "5         Sadia Desai         Dubai       SE\n",
       "6      Shilvanti Kale        Sangli       SE\n",
       "7         Reva Jagtap         Karad       DS"
      ]
     },
     "execution_count": 29,
     "metadata": {},
     "output_type": "execute_result"
    }
   ],
   "source": [
    "# syntax: df.loc[:,:] ==>[rows,columns]\n",
    "# stop in loc is inclusive\n",
    "df.loc[:,'Name':'Post']"
   ]
  },
  {
   "cell_type": "code",
   "execution_count": 33,
   "id": "69e44092",
   "metadata": {},
   "outputs": [
    {
     "data": {
      "text/html": [
       "<div>\n",
       "<style scoped>\n",
       "    .dataframe tbody tr th:only-of-type {\n",
       "        vertical-align: middle;\n",
       "    }\n",
       "\n",
       "    .dataframe tbody tr th {\n",
       "        vertical-align: top;\n",
       "    }\n",
       "\n",
       "    .dataframe thead th {\n",
       "        text-align: right;\n",
       "    }\n",
       "</style>\n",
       "<table border=\"1\" class=\"dataframe\">\n",
       "  <thead>\n",
       "    <tr style=\"text-align: right;\">\n",
       "      <th></th>\n",
       "      <th>Name</th>\n",
       "      <th>Gender</th>\n",
       "    </tr>\n",
       "  </thead>\n",
       "  <tbody>\n",
       "    <tr>\n",
       "      <th>0</th>\n",
       "      <td>Abhishek Ingulkaar</td>\n",
       "      <td>Male</td>\n",
       "    </tr>\n",
       "    <tr>\n",
       "      <th>1</th>\n",
       "      <td>Ashwini Gat</td>\n",
       "      <td>Female</td>\n",
       "    </tr>\n",
       "    <tr>\n",
       "      <th>2</th>\n",
       "      <td>Gaurav Desai</td>\n",
       "      <td>Male</td>\n",
       "    </tr>\n",
       "    <tr>\n",
       "      <th>3</th>\n",
       "      <td>Milind Dhawale</td>\n",
       "      <td>Male</td>\n",
       "    </tr>\n",
       "    <tr>\n",
       "      <th>4</th>\n",
       "      <td>Prasad Ganthade</td>\n",
       "      <td>Male</td>\n",
       "    </tr>\n",
       "    <tr>\n",
       "      <th>5</th>\n",
       "      <td>Sadia Desai</td>\n",
       "      <td>Female</td>\n",
       "    </tr>\n",
       "    <tr>\n",
       "      <th>6</th>\n",
       "      <td>Shilvanti Kale</td>\n",
       "      <td>Female</td>\n",
       "    </tr>\n",
       "    <tr>\n",
       "      <th>7</th>\n",
       "      <td>Reva Jagtap</td>\n",
       "      <td>Female</td>\n",
       "    </tr>\n",
       "  </tbody>\n",
       "</table>\n",
       "</div>"
      ],
      "text/plain": [
       "                 Name  Gender\n",
       "0  Abhishek Ingulkaar    Male\n",
       "1         Ashwini Gat  Female\n",
       "2        Gaurav Desai    Male\n",
       "3      Milind Dhawale    Male\n",
       "4     Prasad Ganthade    Male\n",
       "5         Sadia Desai  Female\n",
       "6      Shilvanti Kale  Female\n",
       "7         Reva Jagtap  Female"
      ]
     },
     "execution_count": 33,
     "metadata": {},
     "output_type": "execute_result"
    }
   ],
   "source": [
    "#access name and gender column\n",
    "\n",
    "df.loc[:,:'Gender':5]"
   ]
  },
  {
   "cell_type": "code",
   "execution_count": 36,
   "id": "e026005f",
   "metadata": {},
   "outputs": [
    {
     "data": {
      "text/html": [
       "<div>\n",
       "<style scoped>\n",
       "    .dataframe tbody tr th:only-of-type {\n",
       "        vertical-align: middle;\n",
       "    }\n",
       "\n",
       "    .dataframe tbody tr th {\n",
       "        vertical-align: top;\n",
       "    }\n",
       "\n",
       "    .dataframe thead th {\n",
       "        text-align: right;\n",
       "    }\n",
       "</style>\n",
       "<table border=\"1\" class=\"dataframe\">\n",
       "  <thead>\n",
       "    <tr style=\"text-align: right;\">\n",
       "      <th></th>\n",
       "      <th>Gender</th>\n",
       "      <th>Age</th>\n",
       "      <th>Salary</th>\n",
       "      <th>Post</th>\n",
       "      <th>Place</th>\n",
       "      <th>Name</th>\n",
       "    </tr>\n",
       "  </thead>\n",
       "  <tbody>\n",
       "    <tr>\n",
       "      <th>0</th>\n",
       "      <td>Male</td>\n",
       "      <td>25</td>\n",
       "      <td>345000</td>\n",
       "      <td>DS</td>\n",
       "      <td>Pune</td>\n",
       "      <td>Abhishek Ingulkaar</td>\n",
       "    </tr>\n",
       "    <tr>\n",
       "      <th>1</th>\n",
       "      <td>Female</td>\n",
       "      <td>33</td>\n",
       "      <td>45000</td>\n",
       "      <td>Admin</td>\n",
       "      <td>Ichalkaranji</td>\n",
       "      <td>Ashwini Gat</td>\n",
       "    </tr>\n",
       "    <tr>\n",
       "      <th>2</th>\n",
       "      <td>Male</td>\n",
       "      <td>28</td>\n",
       "      <td>80000</td>\n",
       "      <td>Tester</td>\n",
       "      <td>Pune</td>\n",
       "      <td>Gaurav Desai</td>\n",
       "    </tr>\n",
       "    <tr>\n",
       "      <th>3</th>\n",
       "      <td>Male</td>\n",
       "      <td>23</td>\n",
       "      <td>120000</td>\n",
       "      <td>DS</td>\n",
       "      <td>Thane</td>\n",
       "      <td>Milind Dhawale</td>\n",
       "    </tr>\n",
       "    <tr>\n",
       "      <th>4</th>\n",
       "      <td>Male</td>\n",
       "      <td>29</td>\n",
       "      <td>500000</td>\n",
       "      <td>Manager</td>\n",
       "      <td>Belgaum</td>\n",
       "      <td>Prasad Ganthade</td>\n",
       "    </tr>\n",
       "    <tr>\n",
       "      <th>5</th>\n",
       "      <td>Female</td>\n",
       "      <td>31</td>\n",
       "      <td>340000</td>\n",
       "      <td>SE</td>\n",
       "      <td>Dubai</td>\n",
       "      <td>Sadia Desai</td>\n",
       "    </tr>\n",
       "    <tr>\n",
       "      <th>6</th>\n",
       "      <td>Female</td>\n",
       "      <td>23</td>\n",
       "      <td>68000</td>\n",
       "      <td>SE</td>\n",
       "      <td>Sangli</td>\n",
       "      <td>Shilvanti Kale</td>\n",
       "    </tr>\n",
       "    <tr>\n",
       "      <th>7</th>\n",
       "      <td>Female</td>\n",
       "      <td>28</td>\n",
       "      <td>50000</td>\n",
       "      <td>DS</td>\n",
       "      <td>Karad</td>\n",
       "      <td>Reva Jagtap</td>\n",
       "    </tr>\n",
       "  </tbody>\n",
       "</table>\n",
       "</div>"
      ],
      "text/plain": [
       "   Gender  Age  Salary     Post         Place                Name\n",
       "0    Male   25  345000       DS          Pune  Abhishek Ingulkaar\n",
       "1  Female   33   45000    Admin  Ichalkaranji         Ashwini Gat\n",
       "2    Male   28   80000   Tester          Pune        Gaurav Desai\n",
       "3    Male   23  120000       DS         Thane      Milind Dhawale\n",
       "4    Male   29  500000  Manager       Belgaum     Prasad Ganthade\n",
       "5  Female   31  340000       SE         Dubai         Sadia Desai\n",
       "6  Female   23   68000       SE        Sangli      Shilvanti Kale\n",
       "7  Female   28   50000       DS         Karad         Reva Jagtap"
      ]
     },
     "execution_count": 36,
     "metadata": {},
     "output_type": "execute_result"
    }
   ],
   "source": [
    "# Reverse columns\n",
    "df.loc[:,::-1]"
   ]
  },
  {
   "cell_type": "code",
   "execution_count": 38,
   "id": "3f616d2f",
   "metadata": {},
   "outputs": [
    {
     "data": {
      "text/html": [
       "<div>\n",
       "<style scoped>\n",
       "    .dataframe tbody tr th:only-of-type {\n",
       "        vertical-align: middle;\n",
       "    }\n",
       "\n",
       "    .dataframe tbody tr th {\n",
       "        vertical-align: top;\n",
       "    }\n",
       "\n",
       "    .dataframe thead th {\n",
       "        text-align: right;\n",
       "    }\n",
       "</style>\n",
       "<table border=\"1\" class=\"dataframe\">\n",
       "  <thead>\n",
       "    <tr style=\"text-align: right;\">\n",
       "      <th></th>\n",
       "      <th>Place</th>\n",
       "      <th>Name</th>\n",
       "      <th>Age</th>\n",
       "    </tr>\n",
       "  </thead>\n",
       "  <tbody>\n",
       "    <tr>\n",
       "      <th>0</th>\n",
       "      <td>Pune</td>\n",
       "      <td>Abhishek Ingulkaar</td>\n",
       "      <td>25</td>\n",
       "    </tr>\n",
       "    <tr>\n",
       "      <th>1</th>\n",
       "      <td>Ichalkaranji</td>\n",
       "      <td>Ashwini Gat</td>\n",
       "      <td>33</td>\n",
       "    </tr>\n",
       "    <tr>\n",
       "      <th>2</th>\n",
       "      <td>Pune</td>\n",
       "      <td>Gaurav Desai</td>\n",
       "      <td>28</td>\n",
       "    </tr>\n",
       "    <tr>\n",
       "      <th>3</th>\n",
       "      <td>Thane</td>\n",
       "      <td>Milind Dhawale</td>\n",
       "      <td>23</td>\n",
       "    </tr>\n",
       "    <tr>\n",
       "      <th>4</th>\n",
       "      <td>Belgaum</td>\n",
       "      <td>Prasad Ganthade</td>\n",
       "      <td>29</td>\n",
       "    </tr>\n",
       "    <tr>\n",
       "      <th>5</th>\n",
       "      <td>Dubai</td>\n",
       "      <td>Sadia Desai</td>\n",
       "      <td>31</td>\n",
       "    </tr>\n",
       "    <tr>\n",
       "      <th>6</th>\n",
       "      <td>Sangli</td>\n",
       "      <td>Shilvanti Kale</td>\n",
       "      <td>23</td>\n",
       "    </tr>\n",
       "    <tr>\n",
       "      <th>7</th>\n",
       "      <td>Karad</td>\n",
       "      <td>Reva Jagtap</td>\n",
       "      <td>28</td>\n",
       "    </tr>\n",
       "  </tbody>\n",
       "</table>\n",
       "</div>"
      ],
      "text/plain": [
       "          Place                Name  Age\n",
       "0          Pune  Abhishek Ingulkaar   25\n",
       "1  Ichalkaranji         Ashwini Gat   33\n",
       "2          Pune        Gaurav Desai   28\n",
       "3         Thane      Milind Dhawale   23\n",
       "4       Belgaum     Prasad Ganthade   29\n",
       "5         Dubai         Sadia Desai   31\n",
       "6        Sangli      Shilvanti Kale   23\n",
       "7         Karad         Reva Jagtap   28"
      ]
     },
     "execution_count": 38,
     "metadata": {},
     "output_type": "execute_result"
    }
   ],
   "source": [
    "# slicing we use only when we want to access something sequentially\n",
    "# but if i want to access random columns using loc\n",
    "df.loc[:,['Place','Name','Age']]"
   ]
  },
  {
   "cell_type": "code",
   "execution_count": 44,
   "id": "1db708fd",
   "metadata": {},
   "outputs": [
    {
     "data": {
      "text/html": [
       "<div>\n",
       "<style scoped>\n",
       "    .dataframe tbody tr th:only-of-type {\n",
       "        vertical-align: middle;\n",
       "    }\n",
       "\n",
       "    .dataframe tbody tr th {\n",
       "        vertical-align: top;\n",
       "    }\n",
       "\n",
       "    .dataframe thead th {\n",
       "        text-align: right;\n",
       "    }\n",
       "</style>\n",
       "<table border=\"1\" class=\"dataframe\">\n",
       "  <thead>\n",
       "    <tr style=\"text-align: right;\">\n",
       "      <th></th>\n",
       "      <th>Name</th>\n",
       "      <th>Place</th>\n",
       "      <th>Post</th>\n",
       "      <th>Salary</th>\n",
       "      <th>Age</th>\n",
       "      <th>Gender</th>\n",
       "    </tr>\n",
       "  </thead>\n",
       "  <tbody>\n",
       "    <tr>\n",
       "      <th>2</th>\n",
       "      <td>Gaurav Desai</td>\n",
       "      <td>Pune</td>\n",
       "      <td>Tester</td>\n",
       "      <td>80000</td>\n",
       "      <td>28</td>\n",
       "      <td>Male</td>\n",
       "    </tr>\n",
       "  </tbody>\n",
       "</table>\n",
       "</div>"
      ],
      "text/plain": [
       "           Name Place    Post  Salary  Age Gender\n",
       "2  Gaurav Desai  Pune  Tester   80000   28   Male"
      ]
     },
     "execution_count": 44,
     "metadata": {},
     "output_type": "execute_result"
    }
   ],
   "source": [
    "# I want salary of Gaurav\n",
    "g_data = df[df.Name == 'Gaurav Desai']\n",
    "g_data # data of gaurav "
   ]
  },
  {
   "cell_type": "code",
   "execution_count": 46,
   "id": "800e3ec4",
   "metadata": {},
   "outputs": [
    {
     "data": {
      "text/plain": [
       "2    80000\n",
       "Name: Salary, dtype: int64"
      ]
     },
     "execution_count": 46,
     "metadata": {},
     "output_type": "execute_result"
    }
   ],
   "source": [
    "g_data.Salary"
   ]
  },
  {
   "cell_type": "code",
   "execution_count": 51,
   "id": "5b7519f8",
   "metadata": {},
   "outputs": [
    {
     "data": {
      "text/html": [
       "<div>\n",
       "<style scoped>\n",
       "    .dataframe tbody tr th:only-of-type {\n",
       "        vertical-align: middle;\n",
       "    }\n",
       "\n",
       "    .dataframe tbody tr th {\n",
       "        vertical-align: top;\n",
       "    }\n",
       "\n",
       "    .dataframe thead th {\n",
       "        text-align: right;\n",
       "    }\n",
       "</style>\n",
       "<table border=\"1\" class=\"dataframe\">\n",
       "  <thead>\n",
       "    <tr style=\"text-align: right;\">\n",
       "      <th></th>\n",
       "      <th>Name</th>\n",
       "      <th>Place</th>\n",
       "      <th>Post</th>\n",
       "      <th>Salary</th>\n",
       "      <th>Age</th>\n",
       "      <th>Gender</th>\n",
       "    </tr>\n",
       "  </thead>\n",
       "  <tbody>\n",
       "    <tr>\n",
       "      <th>2</th>\n",
       "      <td>Gaurav Desai</td>\n",
       "      <td>Pune</td>\n",
       "      <td>Tester</td>\n",
       "      <td>80000</td>\n",
       "      <td>28</td>\n",
       "      <td>Male</td>\n",
       "    </tr>\n",
       "    <tr>\n",
       "      <th>3</th>\n",
       "      <td>Milind Dhawale</td>\n",
       "      <td>Thane</td>\n",
       "      <td>DS</td>\n",
       "      <td>120000</td>\n",
       "      <td>23</td>\n",
       "      <td>Male</td>\n",
       "    </tr>\n",
       "  </tbody>\n",
       "</table>\n",
       "</div>"
      ],
      "text/plain": [
       "             Name  Place    Post  Salary  Age Gender\n",
       "2    Gaurav Desai   Pune  Tester   80000   28   Male\n",
       "3  Milind Dhawale  Thane      DS  120000   23   Male"
      ]
     },
     "execution_count": 51,
     "metadata": {},
     "output_type": "execute_result"
    }
   ],
   "source": [
    "# if we want data of gaurav and Milind together\n",
    "df[(df.Name == 'Gaurav Desai') | (df.Name == 'Milind Dhawale')]"
   ]
  },
  {
   "cell_type": "code",
   "execution_count": 52,
   "id": "230a9453",
   "metadata": {},
   "outputs": [
    {
     "data": {
      "text/html": [
       "<div>\n",
       "<style scoped>\n",
       "    .dataframe tbody tr th:only-of-type {\n",
       "        vertical-align: middle;\n",
       "    }\n",
       "\n",
       "    .dataframe tbody tr th {\n",
       "        vertical-align: top;\n",
       "    }\n",
       "\n",
       "    .dataframe thead th {\n",
       "        text-align: right;\n",
       "    }\n",
       "</style>\n",
       "<table border=\"1\" class=\"dataframe\">\n",
       "  <thead>\n",
       "    <tr style=\"text-align: right;\">\n",
       "      <th></th>\n",
       "      <th>Name</th>\n",
       "      <th>Salary</th>\n",
       "    </tr>\n",
       "  </thead>\n",
       "  <tbody>\n",
       "    <tr>\n",
       "      <th>2</th>\n",
       "      <td>Gaurav Desai</td>\n",
       "      <td>80000</td>\n",
       "    </tr>\n",
       "    <tr>\n",
       "      <th>3</th>\n",
       "      <td>Milind Dhawale</td>\n",
       "      <td>120000</td>\n",
       "    </tr>\n",
       "  </tbody>\n",
       "</table>\n",
       "</div>"
      ],
      "text/plain": [
       "             Name  Salary\n",
       "2    Gaurav Desai   80000\n",
       "3  Milind Dhawale  120000"
      ]
     },
     "execution_count": 52,
     "metadata": {},
     "output_type": "execute_result"
    }
   ],
   "source": [
    "final  = df[(df.Name == 'Gaurav Desai') | (df.Name == 'Milind Dhawale')]\n",
    "final[['Name','Salary']]"
   ]
  },
  {
   "cell_type": "markdown",
   "id": "43e6ac05",
   "metadata": {},
   "source": [
    "## Find out Name and Salary for employee salary > 80000"
   ]
  },
  {
   "cell_type": "code",
   "execution_count": 55,
   "id": "4e706f43",
   "metadata": {},
   "outputs": [
    {
     "data": {
      "text/html": [
       "<div>\n",
       "<style scoped>\n",
       "    .dataframe tbody tr th:only-of-type {\n",
       "        vertical-align: middle;\n",
       "    }\n",
       "\n",
       "    .dataframe tbody tr th {\n",
       "        vertical-align: top;\n",
       "    }\n",
       "\n",
       "    .dataframe thead th {\n",
       "        text-align: right;\n",
       "    }\n",
       "</style>\n",
       "<table border=\"1\" class=\"dataframe\">\n",
       "  <thead>\n",
       "    <tr style=\"text-align: right;\">\n",
       "      <th></th>\n",
       "      <th>Name</th>\n",
       "      <th>Place</th>\n",
       "      <th>Post</th>\n",
       "      <th>Salary</th>\n",
       "      <th>Age</th>\n",
       "      <th>Gender</th>\n",
       "    </tr>\n",
       "  </thead>\n",
       "  <tbody>\n",
       "    <tr>\n",
       "      <th>0</th>\n",
       "      <td>Abhishek Ingulkaar</td>\n",
       "      <td>Pune</td>\n",
       "      <td>DS</td>\n",
       "      <td>345000</td>\n",
       "      <td>25</td>\n",
       "      <td>Male</td>\n",
       "    </tr>\n",
       "    <tr>\n",
       "      <th>3</th>\n",
       "      <td>Milind Dhawale</td>\n",
       "      <td>Thane</td>\n",
       "      <td>DS</td>\n",
       "      <td>120000</td>\n",
       "      <td>23</td>\n",
       "      <td>Male</td>\n",
       "    </tr>\n",
       "    <tr>\n",
       "      <th>4</th>\n",
       "      <td>Prasad Ganthade</td>\n",
       "      <td>Belgaum</td>\n",
       "      <td>Manager</td>\n",
       "      <td>500000</td>\n",
       "      <td>29</td>\n",
       "      <td>Male</td>\n",
       "    </tr>\n",
       "    <tr>\n",
       "      <th>5</th>\n",
       "      <td>Sadia Desai</td>\n",
       "      <td>Dubai</td>\n",
       "      <td>SE</td>\n",
       "      <td>340000</td>\n",
       "      <td>31</td>\n",
       "      <td>Female</td>\n",
       "    </tr>\n",
       "  </tbody>\n",
       "</table>\n",
       "</div>"
      ],
      "text/plain": [
       "                 Name    Place     Post  Salary  Age  Gender\n",
       "0  Abhishek Ingulkaar     Pune       DS  345000   25    Male\n",
       "3      Milind Dhawale    Thane       DS  120000   23    Male\n",
       "4     Prasad Ganthade  Belgaum  Manager  500000   29    Male\n",
       "5         Sadia Desai    Dubai       SE  340000   31  Female"
      ]
     },
     "execution_count": 55,
     "metadata": {},
     "output_type": "execute_result"
    }
   ],
   "source": [
    "df[df.Salary> 80000]"
   ]
  },
  {
   "cell_type": "code",
   "execution_count": 56,
   "id": "2198c2a4",
   "metadata": {},
   "outputs": [
    {
     "data": {
      "text/html": [
       "<div>\n",
       "<style scoped>\n",
       "    .dataframe tbody tr th:only-of-type {\n",
       "        vertical-align: middle;\n",
       "    }\n",
       "\n",
       "    .dataframe tbody tr th {\n",
       "        vertical-align: top;\n",
       "    }\n",
       "\n",
       "    .dataframe thead th {\n",
       "        text-align: right;\n",
       "    }\n",
       "</style>\n",
       "<table border=\"1\" class=\"dataframe\">\n",
       "  <thead>\n",
       "    <tr style=\"text-align: right;\">\n",
       "      <th></th>\n",
       "      <th>Name</th>\n",
       "      <th>Salary</th>\n",
       "    </tr>\n",
       "  </thead>\n",
       "  <tbody>\n",
       "    <tr>\n",
       "      <th>0</th>\n",
       "      <td>Abhishek Ingulkaar</td>\n",
       "      <td>345000</td>\n",
       "    </tr>\n",
       "    <tr>\n",
       "      <th>3</th>\n",
       "      <td>Milind Dhawale</td>\n",
       "      <td>120000</td>\n",
       "    </tr>\n",
       "    <tr>\n",
       "      <th>4</th>\n",
       "      <td>Prasad Ganthade</td>\n",
       "      <td>500000</td>\n",
       "    </tr>\n",
       "    <tr>\n",
       "      <th>5</th>\n",
       "      <td>Sadia Desai</td>\n",
       "      <td>340000</td>\n",
       "    </tr>\n",
       "  </tbody>\n",
       "</table>\n",
       "</div>"
      ],
      "text/plain": [
       "                 Name  Salary\n",
       "0  Abhishek Ingulkaar  345000\n",
       "3      Milind Dhawale  120000\n",
       "4     Prasad Ganthade  500000\n",
       "5         Sadia Desai  340000"
      ]
     },
     "execution_count": 56,
     "metadata": {},
     "output_type": "execute_result"
    }
   ],
   "source": [
    "df[df.Salary> 80000][['Name','Salary']]"
   ]
  },
  {
   "cell_type": "markdown",
   "id": "3bb32fa3",
   "metadata": {},
   "source": [
    "## fetch persons working in pune having salary greater than 100000"
   ]
  },
  {
   "cell_type": "code",
   "execution_count": 61,
   "id": "cc4847c5",
   "metadata": {},
   "outputs": [
    {
     "data": {
      "text/html": [
       "<div>\n",
       "<style scoped>\n",
       "    .dataframe tbody tr th:only-of-type {\n",
       "        vertical-align: middle;\n",
       "    }\n",
       "\n",
       "    .dataframe tbody tr th {\n",
       "        vertical-align: top;\n",
       "    }\n",
       "\n",
       "    .dataframe thead th {\n",
       "        text-align: right;\n",
       "    }\n",
       "</style>\n",
       "<table border=\"1\" class=\"dataframe\">\n",
       "  <thead>\n",
       "    <tr style=\"text-align: right;\">\n",
       "      <th></th>\n",
       "      <th>Name</th>\n",
       "      <th>Place</th>\n",
       "      <th>Post</th>\n",
       "      <th>Salary</th>\n",
       "      <th>Age</th>\n",
       "      <th>Gender</th>\n",
       "    </tr>\n",
       "  </thead>\n",
       "  <tbody>\n",
       "    <tr>\n",
       "      <th>0</th>\n",
       "      <td>Abhishek Ingulkaar</td>\n",
       "      <td>Pune</td>\n",
       "      <td>DS</td>\n",
       "      <td>345000</td>\n",
       "      <td>25</td>\n",
       "      <td>Male</td>\n",
       "    </tr>\n",
       "    <tr>\n",
       "      <th>2</th>\n",
       "      <td>Gaurav Desai</td>\n",
       "      <td>Pune</td>\n",
       "      <td>Tester</td>\n",
       "      <td>80000</td>\n",
       "      <td>28</td>\n",
       "      <td>Male</td>\n",
       "    </tr>\n",
       "  </tbody>\n",
       "</table>\n",
       "</div>"
      ],
      "text/plain": [
       "                 Name Place    Post  Salary  Age Gender\n",
       "0  Abhishek Ingulkaar  Pune      DS  345000   25   Male\n",
       "2        Gaurav Desai  Pune  Tester   80000   28   Male"
      ]
     },
     "execution_count": 61,
     "metadata": {},
     "output_type": "execute_result"
    }
   ],
   "source": [
    "pn = df[df.Place == 'Pune']\n",
    "pn"
   ]
  },
  {
   "cell_type": "code",
   "execution_count": 63,
   "id": "852fda41",
   "metadata": {},
   "outputs": [
    {
     "data": {
      "text/html": [
       "<div>\n",
       "<style scoped>\n",
       "    .dataframe tbody tr th:only-of-type {\n",
       "        vertical-align: middle;\n",
       "    }\n",
       "\n",
       "    .dataframe tbody tr th {\n",
       "        vertical-align: top;\n",
       "    }\n",
       "\n",
       "    .dataframe thead th {\n",
       "        text-align: right;\n",
       "    }\n",
       "</style>\n",
       "<table border=\"1\" class=\"dataframe\">\n",
       "  <thead>\n",
       "    <tr style=\"text-align: right;\">\n",
       "      <th></th>\n",
       "      <th>Name</th>\n",
       "      <th>Place</th>\n",
       "      <th>Post</th>\n",
       "      <th>Salary</th>\n",
       "      <th>Age</th>\n",
       "      <th>Gender</th>\n",
       "    </tr>\n",
       "  </thead>\n",
       "  <tbody>\n",
       "    <tr>\n",
       "      <th>0</th>\n",
       "      <td>Abhishek Ingulkaar</td>\n",
       "      <td>Pune</td>\n",
       "      <td>DS</td>\n",
       "      <td>345000</td>\n",
       "      <td>25</td>\n",
       "      <td>Male</td>\n",
       "    </tr>\n",
       "  </tbody>\n",
       "</table>\n",
       "</div>"
      ],
      "text/plain": [
       "                 Name Place Post  Salary  Age Gender\n",
       "0  Abhishek Ingulkaar  Pune   DS  345000   25   Male"
      ]
     },
     "execution_count": 63,
     "metadata": {},
     "output_type": "execute_result"
    }
   ],
   "source": [
    "pn[pn.Salary > 100000]"
   ]
  },
  {
   "cell_type": "code",
   "execution_count": 67,
   "id": "16d8dab4",
   "metadata": {},
   "outputs": [
    {
     "data": {
      "text/html": [
       "<div>\n",
       "<style scoped>\n",
       "    .dataframe tbody tr th:only-of-type {\n",
       "        vertical-align: middle;\n",
       "    }\n",
       "\n",
       "    .dataframe tbody tr th {\n",
       "        vertical-align: top;\n",
       "    }\n",
       "\n",
       "    .dataframe thead th {\n",
       "        text-align: right;\n",
       "    }\n",
       "</style>\n",
       "<table border=\"1\" class=\"dataframe\">\n",
       "  <thead>\n",
       "    <tr style=\"text-align: right;\">\n",
       "      <th></th>\n",
       "      <th>Name</th>\n",
       "      <th>Place</th>\n",
       "      <th>Post</th>\n",
       "      <th>Salary</th>\n",
       "      <th>Age</th>\n",
       "      <th>Gender</th>\n",
       "    </tr>\n",
       "  </thead>\n",
       "  <tbody>\n",
       "    <tr>\n",
       "      <th>0</th>\n",
       "      <td>Abhishek Ingulkaar</td>\n",
       "      <td>Pune</td>\n",
       "      <td>DS</td>\n",
       "      <td>345000</td>\n",
       "      <td>25</td>\n",
       "      <td>Male</td>\n",
       "    </tr>\n",
       "  </tbody>\n",
       "</table>\n",
       "</div>"
      ],
      "text/plain": [
       "                 Name Place Post  Salary  Age Gender\n",
       "0  Abhishek Ingulkaar  Pune   DS  345000   25   Male"
      ]
     },
     "execution_count": 67,
     "metadata": {},
     "output_type": "execute_result"
    }
   ],
   "source": [
    "df[(df.Place == \"Pune\" )& (df.Salary > 100000)]"
   ]
  },
  {
   "cell_type": "markdown",
   "id": "8402cc97",
   "metadata": {},
   "source": [
    "### We can get same answer using query()"
   ]
  },
  {
   "cell_type": "code",
   "execution_count": 68,
   "id": "ff07a400",
   "metadata": {},
   "outputs": [
    {
     "data": {
      "text/html": [
       "<div>\n",
       "<style scoped>\n",
       "    .dataframe tbody tr th:only-of-type {\n",
       "        vertical-align: middle;\n",
       "    }\n",
       "\n",
       "    .dataframe tbody tr th {\n",
       "        vertical-align: top;\n",
       "    }\n",
       "\n",
       "    .dataframe thead th {\n",
       "        text-align: right;\n",
       "    }\n",
       "</style>\n",
       "<table border=\"1\" class=\"dataframe\">\n",
       "  <thead>\n",
       "    <tr style=\"text-align: right;\">\n",
       "      <th></th>\n",
       "      <th>Name</th>\n",
       "      <th>Place</th>\n",
       "      <th>Post</th>\n",
       "      <th>Salary</th>\n",
       "      <th>Age</th>\n",
       "      <th>Gender</th>\n",
       "    </tr>\n",
       "  </thead>\n",
       "  <tbody>\n",
       "    <tr>\n",
       "      <th>0</th>\n",
       "      <td>Abhishek Ingulkaar</td>\n",
       "      <td>Pune</td>\n",
       "      <td>DS</td>\n",
       "      <td>345000</td>\n",
       "      <td>25</td>\n",
       "      <td>Male</td>\n",
       "    </tr>\n",
       "  </tbody>\n",
       "</table>\n",
       "</div>"
      ],
      "text/plain": [
       "                 Name Place Post  Salary  Age Gender\n",
       "0  Abhishek Ingulkaar  Pune   DS  345000   25   Male"
      ]
     },
     "execution_count": 68,
     "metadata": {},
     "output_type": "execute_result"
    }
   ],
   "source": [
    "#df.query(str)\n",
    "df.query('Place == \"Pune\" & Salary > 100000')"
   ]
  },
  {
   "cell_type": "markdown",
   "id": "f0bd54d5",
   "metadata": {},
   "source": [
    "## Fetch an an employee whose salary is Max"
   ]
  },
  {
   "cell_type": "code",
   "execution_count": 69,
   "id": "a33da589",
   "metadata": {},
   "outputs": [
    {
     "data": {
      "text/plain": [
       "500000"
      ]
     },
     "execution_count": 69,
     "metadata": {},
     "output_type": "execute_result"
    }
   ],
   "source": [
    "df.Salary.max()"
   ]
  },
  {
   "cell_type": "code",
   "execution_count": 71,
   "id": "a76daedc",
   "metadata": {},
   "outputs": [
    {
     "data": {
      "text/html": [
       "<div>\n",
       "<style scoped>\n",
       "    .dataframe tbody tr th:only-of-type {\n",
       "        vertical-align: middle;\n",
       "    }\n",
       "\n",
       "    .dataframe tbody tr th {\n",
       "        vertical-align: top;\n",
       "    }\n",
       "\n",
       "    .dataframe thead th {\n",
       "        text-align: right;\n",
       "    }\n",
       "</style>\n",
       "<table border=\"1\" class=\"dataframe\">\n",
       "  <thead>\n",
       "    <tr style=\"text-align: right;\">\n",
       "      <th></th>\n",
       "      <th>Name</th>\n",
       "      <th>Place</th>\n",
       "      <th>Post</th>\n",
       "      <th>Salary</th>\n",
       "      <th>Age</th>\n",
       "      <th>Gender</th>\n",
       "    </tr>\n",
       "  </thead>\n",
       "  <tbody>\n",
       "    <tr>\n",
       "      <th>4</th>\n",
       "      <td>Prasad Ganthade</td>\n",
       "      <td>Belgaum</td>\n",
       "      <td>Manager</td>\n",
       "      <td>500000</td>\n",
       "      <td>29</td>\n",
       "      <td>Male</td>\n",
       "    </tr>\n",
       "  </tbody>\n",
       "</table>\n",
       "</div>"
      ],
      "text/plain": [
       "              Name    Place     Post  Salary  Age Gender\n",
       "4  Prasad Ganthade  Belgaum  Manager  500000   29   Male"
      ]
     },
     "execution_count": 71,
     "metadata": {},
     "output_type": "execute_result"
    }
   ],
   "source": [
    "df[df.Salary == 500000]"
   ]
  },
  {
   "cell_type": "markdown",
   "id": "cea33475",
   "metadata": {},
   "source": [
    "## who is from Thane location"
   ]
  },
  {
   "cell_type": "code",
   "execution_count": 76,
   "id": "61e12ac6",
   "metadata": {},
   "outputs": [
    {
     "data": {
      "text/plain": [
       "3    Milind Dhawale\n",
       "Name: Name, dtype: object"
      ]
     },
     "execution_count": 76,
     "metadata": {},
     "output_type": "execute_result"
    }
   ],
   "source": [
    "df.query('Place == \"Thane\"').Name"
   ]
  },
  {
   "cell_type": "code",
   "execution_count": null,
   "id": "d83b30cc",
   "metadata": {},
   "outputs": [],
   "source": []
  }
 ],
 "metadata": {
  "kernelspec": {
   "display_name": "Python 3 (ipykernel)",
   "language": "python",
   "name": "python3"
  },
  "language_info": {
   "codemirror_mode": {
    "name": "ipython",
    "version": 3
   },
   "file_extension": ".py",
   "mimetype": "text/x-python",
   "name": "python",
   "nbconvert_exporter": "python",
   "pygments_lexer": "ipython3",
   "version": "3.9.7"
  }
 },
 "nbformat": 4,
 "nbformat_minor": 5
}
