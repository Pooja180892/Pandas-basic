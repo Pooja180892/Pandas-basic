{
 "cells": [
  {
   "cell_type": "code",
   "execution_count": 1,
   "id": "933de9eb",
   "metadata": {},
   "outputs": [],
   "source": [
    "import pandas as pd"
   ]
  },
  {
   "cell_type": "code",
   "execution_count": 2,
   "id": "ca2e4982",
   "metadata": {},
   "outputs": [
    {
     "data": {
      "text/plain": [
       "['Pritam   ', 'Kir    an', '    pooja', '**sarang##', 'Suji123$t']"
      ]
     },
     "execution_count": 2,
     "metadata": {},
     "output_type": "execute_result"
    }
   ],
   "source": [
    "data = ['Pritam   ','Kir    an','    pooja','**sarang##','Suji123$t']\n",
    "data"
   ]
  },
  {
   "cell_type": "markdown",
   "id": "3afb6205",
   "metadata": {},
   "source": [
    "## Preprocessing over text data"
   ]
  },
  {
   "cell_type": "code",
   "execution_count": 4,
   "id": "ec1d2f19",
   "metadata": {},
   "outputs": [
    {
     "data": {
      "text/plain": [
       "0     Pritam   \n",
       "1     Kir    an\n",
       "2         pooja\n",
       "3    **sarang##\n",
       "4     Suji123$t\n",
       "dtype: object"
      ]
     },
     "execution_count": 4,
     "metadata": {},
     "output_type": "execute_result"
    }
   ],
   "source": [
    "s = pd.Series(data)\n",
    "s"
   ]
  },
  {
   "cell_type": "code",
   "execution_count": 7,
   "id": "5a571e7e",
   "metadata": {},
   "outputs": [
    {
     "data": {
      "text/plain": [
       "0        Pritam\n",
       "1     Kir    an\n",
       "2         pooja\n",
       "3    **sarang##\n",
       "4     Suji123$t\n",
       "dtype: object"
      ]
     },
     "execution_count": 7,
     "metadata": {},
     "output_type": "execute_result"
    }
   ],
   "source": [
    "# lets apply strip method from str to remove spaces at prefix and sufix\n",
    "s = s.str.strip()\n",
    "s"
   ]
  },
  {
   "cell_type": "code",
   "execution_count": 10,
   "id": "25c12f21",
   "metadata": {},
   "outputs": [
    {
     "data": {
      "text/plain": [
       "0       Pritam\n",
       "1    Kir    an\n",
       "2        pooja\n",
       "3       sarang\n",
       "4    Suji123$t\n",
       "dtype: object"
      ]
     },
     "execution_count": 10,
     "metadata": {},
     "output_type": "execute_result"
    }
   ],
   "source": [
    "# use strip to remove * and # from both the ends\n",
    "\n",
    "s = s.str.strip('#*')\n",
    "s"
   ]
  },
  {
   "cell_type": "code",
   "execution_count": 14,
   "id": "2fd36a28",
   "metadata": {},
   "outputs": [
    {
     "data": {
      "text/plain": [
       "0       Pritam\n",
       "1        Kiran\n",
       "2        pooja\n",
       "3       sarang\n",
       "4    Suji123$t\n",
       "dtype: object"
      ]
     },
     "execution_count": 14,
     "metadata": {},
     "output_type": "execute_result"
    }
   ],
   "source": [
    "# in between char/blocks can be removed using a replace\n",
    "s = s.str.replace(' ','')\n",
    "s"
   ]
  },
  {
   "cell_type": "code",
   "execution_count": 16,
   "id": "91b1ed23",
   "metadata": {},
   "outputs": [
    {
     "data": {
      "text/plain": [
       "0    Pritam\n",
       "1     Kiran\n",
       "2     pooja\n",
       "3    sarang\n",
       "4    Suji$t\n",
       "dtype: object"
      ]
     },
     "execution_count": 16,
     "metadata": {},
     "output_type": "execute_result"
    }
   ],
   "source": [
    "s = s.str.replace('123','')\n",
    "s"
   ]
  },
  {
   "cell_type": "code",
   "execution_count": 17,
   "id": "f34a5626",
   "metadata": {},
   "outputs": [
    {
     "name": "stderr",
     "output_type": "stream",
     "text": [
      "C:\\Users\\hakim\\AppData\\Local\\Temp/ipykernel_4016/3969153480.py:1: FutureWarning: The default value of regex will change from True to False in a future version. In addition, single character regular expressions will *not* be treated as literal strings when regex=True.\n",
      "  s = s.str.replace('$','')\n"
     ]
    },
    {
     "data": {
      "text/plain": [
       "0    Pritam\n",
       "1     Kiran\n",
       "2     pooja\n",
       "3    sarang\n",
       "4     Sujit\n",
       "dtype: object"
      ]
     },
     "execution_count": 17,
     "metadata": {},
     "output_type": "execute_result"
    }
   ],
   "source": [
    "s = s.str.replace('$','')\n",
    "s"
   ]
  },
  {
   "cell_type": "code",
   "execution_count": 18,
   "id": "a26d1cee",
   "metadata": {},
   "outputs": [
    {
     "data": {
      "text/plain": [
       "['Pritam   ', 'Kir    an', '    pooja', '**sarang##', 'Suji123$t']"
      ]
     },
     "execution_count": 18,
     "metadata": {},
     "output_type": "execute_result"
    }
   ],
   "source": [
    "data"
   ]
  },
  {
   "cell_type": "code",
   "execution_count": 20,
   "id": "df6b2b6a",
   "metadata": {},
   "outputs": [
    {
     "data": {
      "text/plain": [
       "0    Pritam\n",
       "1     Kiran\n",
       "2     Pooja\n",
       "3    Sarang\n",
       "4     Sujit\n",
       "dtype: object"
      ]
     },
     "execution_count": 20,
     "metadata": {},
     "output_type": "execute_result"
    }
   ],
   "source": [
    "# i want to convert names into title case\n",
    "s = s.str.title()\n",
    "s"
   ]
  },
  {
   "cell_type": "markdown",
   "id": "e85775c7",
   "metadata": {},
   "source": [
    "### Sort the names present in series"
   ]
  },
  {
   "cell_type": "code",
   "execution_count": 22,
   "id": "b37f18d9",
   "metadata": {},
   "outputs": [
    {
     "data": {
      "text/plain": [
       "1     Kiran\n",
       "2     Pooja\n",
       "0    Pritam\n",
       "3    Sarang\n",
       "4     Sujit\n",
       "dtype: object"
      ]
     },
     "execution_count": 22,
     "metadata": {},
     "output_type": "execute_result"
    }
   ],
   "source": [
    "s.sort_values() #output is temp. \n",
    "# sorted in ascending order"
   ]
  },
  {
   "cell_type": "code",
   "execution_count": 23,
   "id": "ed231910",
   "metadata": {},
   "outputs": [
    {
     "data": {
      "text/plain": [
       "4     Sujit\n",
       "3    Sarang\n",
       "0    Pritam\n",
       "2     Pooja\n",
       "1     Kiran\n",
       "dtype: object"
      ]
     },
     "execution_count": 23,
     "metadata": {},
     "output_type": "execute_result"
    }
   ],
   "source": [
    "# sort in decending order\n",
    "s.sort_values(ascending=False)"
   ]
  },
  {
   "cell_type": "code",
   "execution_count": 24,
   "id": "c9b8c350",
   "metadata": {},
   "outputs": [
    {
     "data": {
      "text/plain": [
       "4     Sujit\n",
       "3    Sarang\n",
       "0    Pritam\n",
       "2     Pooja\n",
       "1     Kiran\n",
       "dtype: object"
      ]
     },
     "execution_count": 24,
     "metadata": {},
     "output_type": "execute_result"
    }
   ],
   "source": [
    "z = s.sort_values(ascending=False)\n",
    "z"
   ]
  },
  {
   "cell_type": "code",
   "execution_count": 26,
   "id": "cdd6a488",
   "metadata": {},
   "outputs": [
    {
     "data": {
      "text/html": [
       "<div>\n",
       "<style scoped>\n",
       "    .dataframe tbody tr th:only-of-type {\n",
       "        vertical-align: middle;\n",
       "    }\n",
       "\n",
       "    .dataframe tbody tr th {\n",
       "        vertical-align: top;\n",
       "    }\n",
       "\n",
       "    .dataframe thead th {\n",
       "        text-align: right;\n",
       "    }\n",
       "</style>\n",
       "<table border=\"1\" class=\"dataframe\">\n",
       "  <thead>\n",
       "    <tr style=\"text-align: right;\">\n",
       "      <th></th>\n",
       "      <th>index</th>\n",
       "      <th>0</th>\n",
       "    </tr>\n",
       "  </thead>\n",
       "  <tbody>\n",
       "    <tr>\n",
       "      <th>0</th>\n",
       "      <td>4</td>\n",
       "      <td>Sujit</td>\n",
       "    </tr>\n",
       "    <tr>\n",
       "      <th>1</th>\n",
       "      <td>3</td>\n",
       "      <td>Sarang</td>\n",
       "    </tr>\n",
       "    <tr>\n",
       "      <th>2</th>\n",
       "      <td>0</td>\n",
       "      <td>Pritam</td>\n",
       "    </tr>\n",
       "    <tr>\n",
       "      <th>3</th>\n",
       "      <td>2</td>\n",
       "      <td>Pooja</td>\n",
       "    </tr>\n",
       "    <tr>\n",
       "      <th>4</th>\n",
       "      <td>1</td>\n",
       "      <td>Kiran</td>\n",
       "    </tr>\n",
       "  </tbody>\n",
       "</table>\n",
       "</div>"
      ],
      "text/plain": [
       "   index       0\n",
       "0      4   Sujit\n",
       "1      3  Sarang\n",
       "2      0  Pritam\n",
       "3      2   Pooja\n",
       "4      1   Kiran"
      ]
     },
     "execution_count": 26,
     "metadata": {},
     "output_type": "execute_result"
    }
   ],
   "source": [
    "# in above case indices are not is sequence order\n",
    "# to align them properly\n",
    "z.reset_index()\n",
    "# gives a tmp. dataframe"
   ]
  },
  {
   "cell_type": "code",
   "execution_count": 27,
   "id": "f2e9e2e6",
   "metadata": {},
   "outputs": [
    {
     "data": {
      "text/plain": [
       "0     Sujit\n",
       "1    Sarang\n",
       "2    Pritam\n",
       "3     Pooja\n",
       "4     Kiran\n",
       "dtype: object"
      ]
     },
     "execution_count": 27,
     "metadata": {},
     "output_type": "execute_result"
    }
   ],
   "source": [
    "# if we dont want extra index column which appears in above output\n",
    "z.reset_index(drop=True)\n",
    "# returns temp Series"
   ]
  },
  {
   "cell_type": "code",
   "execution_count": 28,
   "id": "70f84316",
   "metadata": {},
   "outputs": [
    {
     "data": {
      "text/plain": [
       "4     Sujit\n",
       "3    Sarang\n",
       "0    Pritam\n",
       "2     Pooja\n",
       "1     Kiran\n",
       "dtype: object"
      ]
     },
     "execution_count": 28,
     "metadata": {},
     "output_type": "execute_result"
    }
   ],
   "source": [
    "z"
   ]
  },
  {
   "cell_type": "code",
   "execution_count": 29,
   "id": "f6ca1da7",
   "metadata": {},
   "outputs": [
    {
     "data": {
      "text/plain": [
       "0    Pritam\n",
       "1     Kiran\n",
       "2     Pooja\n",
       "3    Sarang\n",
       "4     Sujit\n",
       "dtype: object"
      ]
     },
     "execution_count": 29,
     "metadata": {},
     "output_type": "execute_result"
    }
   ],
   "source": [
    "# if we want to sort based on index then use sort_index()\n",
    "z.sort_index() #temp output"
   ]
  },
  {
   "cell_type": "code",
   "execution_count": 32,
   "id": "a5d94c07",
   "metadata": {},
   "outputs": [],
   "source": [
    "# if u want permenant solution # changes should persist in z\n",
    "#then use inplace attribute\n",
    "z.sort_index(inplace=True)"
   ]
  },
  {
   "cell_type": "code",
   "execution_count": 33,
   "id": "b25fe687",
   "metadata": {},
   "outputs": [
    {
     "data": {
      "text/plain": [
       "0    Pritam\n",
       "1     Kiran\n",
       "2     Pooja\n",
       "3    Sarang\n",
       "4     Sujit\n",
       "dtype: object"
      ]
     },
     "execution_count": 33,
     "metadata": {},
     "output_type": "execute_result"
    }
   ],
   "source": [
    "z"
   ]
  },
  {
   "cell_type": "code",
   "execution_count": 35,
   "id": "044e2e34",
   "metadata": {},
   "outputs": [
    {
     "data": {
      "text/plain": [
       "0     10\n",
       "10    20\n",
       "4     30\n",
       "5     40\n",
       "dtype: int64"
      ]
     },
     "execution_count": 35,
     "metadata": {},
     "output_type": "execute_result"
    }
   ],
   "source": [
    "e = pd.Series([10,20,30,40],[0,10,4,5])\n",
    "e"
   ]
  },
  {
   "cell_type": "code",
   "execution_count": 36,
   "id": "6d23ebd2",
   "metadata": {},
   "outputs": [
    {
     "data": {
      "text/plain": [
       "0    10\n",
       "1    20\n",
       "2    30\n",
       "3    40\n",
       "dtype: int64"
      ]
     },
     "execution_count": 36,
     "metadata": {},
     "output_type": "execute_result"
    }
   ],
   "source": [
    "# sort index only\n",
    "e.reset_index(drop=True)"
   ]
  },
  {
   "cell_type": "code",
   "execution_count": 37,
   "id": "c3bc52d8",
   "metadata": {},
   "outputs": [
    {
     "data": {
      "text/plain": [
       "0     10\n",
       "4     30\n",
       "5     40\n",
       "10    20\n",
       "dtype: int64"
      ]
     },
     "execution_count": 37,
     "metadata": {},
     "output_type": "execute_result"
    }
   ],
   "source": [
    "# sort values with respect to index\n",
    "e.sort_index()"
   ]
  },
  {
   "cell_type": "markdown",
   "id": "15f65929",
   "metadata": {},
   "source": [
    "# ------------------------------------------------------------"
   ]
  },
  {
   "cell_type": "code",
   "execution_count": 38,
   "id": "0f98bb36",
   "metadata": {},
   "outputs": [
    {
     "data": {
      "text/plain": [
       "0    Pritam\n",
       "1     Kiran\n",
       "2     Pooja\n",
       "3    Sarang\n",
       "4     Sujit\n",
       "dtype: object"
      ]
     },
     "execution_count": 38,
     "metadata": {},
     "output_type": "execute_result"
    }
   ],
   "source": [
    "s"
   ]
  },
  {
   "cell_type": "code",
   "execution_count": 39,
   "id": "5307c476",
   "metadata": {},
   "outputs": [
    {
     "name": "stdout",
     "output_type": "stream",
     "text": [
      "6\n",
      "5\n",
      "5\n",
      "6\n",
      "5\n"
     ]
    }
   ],
   "source": [
    "# calculate a len of each name\n",
    "for i in s:\n",
    "    print(len(i))"
   ]
  },
  {
   "cell_type": "code",
   "execution_count": 40,
   "id": "3ecd97c1",
   "metadata": {},
   "outputs": [
    {
     "data": {
      "text/plain": [
       "[6, 5, 5, 6, 5]"
      ]
     },
     "execution_count": 40,
     "metadata": {},
     "output_type": "execute_result"
    }
   ],
   "source": [
    "[len(i) for i in s]"
   ]
  },
  {
   "cell_type": "markdown",
   "id": "45c5fd84",
   "metadata": {},
   "source": [
    "## apply(func)"
   ]
  },
  {
   "cell_type": "code",
   "execution_count": 41,
   "id": "79fd462d",
   "metadata": {},
   "outputs": [
    {
     "data": {
      "text/plain": [
       "0    6\n",
       "1    5\n",
       "2    5\n",
       "3    6\n",
       "4    5\n",
       "dtype: int64"
      ]
     },
     "execution_count": 41,
     "metadata": {},
     "output_type": "execute_result"
    }
   ],
   "source": [
    "l = lambda nm:len(nm)\n",
    "s.apply(l)"
   ]
  },
  {
   "cell_type": "code",
   "execution_count": 42,
   "id": "9fb01b08",
   "metadata": {},
   "outputs": [
    {
     "data": {
      "text/plain": [
       "0    Pritam\n",
       "1     Kiran\n",
       "2     Pooja\n",
       "3    Sarang\n",
       "4     Sujit\n",
       "dtype: object"
      ]
     },
     "execution_count": 42,
     "metadata": {},
     "output_type": "execute_result"
    }
   ],
   "source": [
    "s"
   ]
  },
  {
   "cell_type": "code",
   "execution_count": 43,
   "id": "abf5345f",
   "metadata": {},
   "outputs": [
    {
     "data": {
      "text/plain": [
       "0    PRITAM\n",
       "1     KIRAN\n",
       "2     POOJA\n",
       "3    SARANG\n",
       "4     SUJIT\n",
       "dtype: object"
      ]
     },
     "execution_count": 43,
     "metadata": {},
     "output_type": "execute_result"
    }
   ],
   "source": [
    "# convert a names to uppercase\n",
    "s.str.upper()"
   ]
  },
  {
   "cell_type": "code",
   "execution_count": 44,
   "id": "680e2715",
   "metadata": {},
   "outputs": [
    {
     "data": {
      "text/plain": [
       "0    PRITAM\n",
       "1     KIRAN\n",
       "2     POOJA\n",
       "3    SARANG\n",
       "4     SUJIT\n",
       "dtype: object"
      ]
     },
     "execution_count": 44,
     "metadata": {},
     "output_type": "execute_result"
    }
   ],
   "source": [
    "s.apply(lambda nm:nm.upper())"
   ]
  },
  {
   "cell_type": "code",
   "execution_count": 46,
   "id": "26ebad57",
   "metadata": {},
   "outputs": [
    {
     "data": {
      "text/plain": [
       "['PRITAM', 'KIRAN', 'POOJA', 'SARANG', 'SUJIT']"
      ]
     },
     "execution_count": 46,
     "metadata": {},
     "output_type": "execute_result"
    }
   ],
   "source": [
    "# map(func,sequence) Python\n",
    "list(map(lambda nm:nm.upper(),s))"
   ]
  },
  {
   "cell_type": "markdown",
   "id": "40d41f56",
   "metadata": {},
   "source": [
    "## map()"
   ]
  },
  {
   "cell_type": "code",
   "execution_count": 47,
   "id": "5926875b",
   "metadata": {},
   "outputs": [
    {
     "data": {
      "text/plain": [
       "0    PRITAM\n",
       "1     KIRAN\n",
       "2     POOJA\n",
       "3    SARANG\n",
       "4     SUJIT\n",
       "dtype: object"
      ]
     },
     "execution_count": 47,
     "metadata": {},
     "output_type": "execute_result"
    }
   ],
   "source": [
    "s.map(lambda nm: nm.upper())"
   ]
  },
  {
   "cell_type": "code",
   "execution_count": 48,
   "id": "776ae1e8",
   "metadata": {},
   "outputs": [
    {
     "data": {
      "text/plain": [
       "0         Arti Patil\n",
       "1    Deepali Bhosale\n",
       "2       Gaurav Desai\n",
       "dtype: object"
      ]
     },
     "execution_count": 48,
     "metadata": {},
     "output_type": "execute_result"
    }
   ],
   "source": [
    "# Interview Question\n",
    "k = pd.Series(['Arti Patil','Deepali Bhosale','Gaurav Desai'])\n",
    "k"
   ]
  },
  {
   "cell_type": "markdown",
   "id": "26644181",
   "metadata": {},
   "source": [
    "#### Fetch Series of Surname"
   ]
  },
  {
   "cell_type": "code",
   "execution_count": 55,
   "id": "08591b90",
   "metadata": {},
   "outputs": [
    {
     "ename": "KeyError",
     "evalue": "-1",
     "output_type": "error",
     "traceback": [
      "\u001b[1;31m---------------------------------------------------------------------------\u001b[0m",
      "\u001b[1;31mValueError\u001b[0m                                Traceback (most recent call last)",
      "\u001b[1;32mC:\\ProgramData\\Anaconda3\\lib\\site-packages\\pandas\\core\\indexes\\range.py\u001b[0m in \u001b[0;36mget_loc\u001b[1;34m(self, key, method, tolerance)\u001b[0m\n\u001b[0;32m    384\u001b[0m                 \u001b[1;32mtry\u001b[0m\u001b[1;33m:\u001b[0m\u001b[1;33m\u001b[0m\u001b[1;33m\u001b[0m\u001b[0m\n\u001b[1;32m--> 385\u001b[1;33m                     \u001b[1;32mreturn\u001b[0m \u001b[0mself\u001b[0m\u001b[1;33m.\u001b[0m\u001b[0m_range\u001b[0m\u001b[1;33m.\u001b[0m\u001b[0mindex\u001b[0m\u001b[1;33m(\u001b[0m\u001b[0mnew_key\u001b[0m\u001b[1;33m)\u001b[0m\u001b[1;33m\u001b[0m\u001b[1;33m\u001b[0m\u001b[0m\n\u001b[0m\u001b[0;32m    386\u001b[0m                 \u001b[1;32mexcept\u001b[0m \u001b[0mValueError\u001b[0m \u001b[1;32mas\u001b[0m \u001b[0merr\u001b[0m\u001b[1;33m:\u001b[0m\u001b[1;33m\u001b[0m\u001b[1;33m\u001b[0m\u001b[0m\n",
      "\u001b[1;31mValueError\u001b[0m: -1 is not in range",
      "\nThe above exception was the direct cause of the following exception:\n",
      "\u001b[1;31mKeyError\u001b[0m                                  Traceback (most recent call last)",
      "\u001b[1;32m~\\AppData\\Local\\Temp/ipykernel_4016/881129800.py\u001b[0m in \u001b[0;36m<module>\u001b[1;34m\u001b[0m\n\u001b[1;32m----> 1\u001b[1;33m \u001b[0mk\u001b[0m\u001b[1;33m.\u001b[0m\u001b[0mstr\u001b[0m\u001b[1;33m.\u001b[0m\u001b[0msplit\u001b[0m\u001b[1;33m(\u001b[0m\u001b[1;33m)\u001b[0m\u001b[1;33m[\u001b[0m\u001b[1;33m-\u001b[0m\u001b[1;36m1\u001b[0m\u001b[1;33m]\u001b[0m\u001b[1;33m\u001b[0m\u001b[1;33m\u001b[0m\u001b[0m\n\u001b[0m",
      "\u001b[1;32mC:\\ProgramData\\Anaconda3\\lib\\site-packages\\pandas\\core\\series.py\u001b[0m in \u001b[0;36m__getitem__\u001b[1;34m(self, key)\u001b[0m\n\u001b[0;32m    940\u001b[0m \u001b[1;33m\u001b[0m\u001b[0m\n\u001b[0;32m    941\u001b[0m         \u001b[1;32melif\u001b[0m \u001b[0mkey_is_scalar\u001b[0m\u001b[1;33m:\u001b[0m\u001b[1;33m\u001b[0m\u001b[1;33m\u001b[0m\u001b[0m\n\u001b[1;32m--> 942\u001b[1;33m             \u001b[1;32mreturn\u001b[0m \u001b[0mself\u001b[0m\u001b[1;33m.\u001b[0m\u001b[0m_get_value\u001b[0m\u001b[1;33m(\u001b[0m\u001b[0mkey\u001b[0m\u001b[1;33m)\u001b[0m\u001b[1;33m\u001b[0m\u001b[1;33m\u001b[0m\u001b[0m\n\u001b[0m\u001b[0;32m    943\u001b[0m \u001b[1;33m\u001b[0m\u001b[0m\n\u001b[0;32m    944\u001b[0m         \u001b[1;32mif\u001b[0m \u001b[0mis_hashable\u001b[0m\u001b[1;33m(\u001b[0m\u001b[0mkey\u001b[0m\u001b[1;33m)\u001b[0m\u001b[1;33m:\u001b[0m\u001b[1;33m\u001b[0m\u001b[1;33m\u001b[0m\u001b[0m\n",
      "\u001b[1;32mC:\\ProgramData\\Anaconda3\\lib\\site-packages\\pandas\\core\\series.py\u001b[0m in \u001b[0;36m_get_value\u001b[1;34m(self, label, takeable)\u001b[0m\n\u001b[0;32m   1049\u001b[0m \u001b[1;33m\u001b[0m\u001b[0m\n\u001b[0;32m   1050\u001b[0m         \u001b[1;31m# Similar to Index.get_value, but we do not fall back to positional\u001b[0m\u001b[1;33m\u001b[0m\u001b[1;33m\u001b[0m\u001b[0m\n\u001b[1;32m-> 1051\u001b[1;33m         \u001b[0mloc\u001b[0m \u001b[1;33m=\u001b[0m \u001b[0mself\u001b[0m\u001b[1;33m.\u001b[0m\u001b[0mindex\u001b[0m\u001b[1;33m.\u001b[0m\u001b[0mget_loc\u001b[0m\u001b[1;33m(\u001b[0m\u001b[0mlabel\u001b[0m\u001b[1;33m)\u001b[0m\u001b[1;33m\u001b[0m\u001b[1;33m\u001b[0m\u001b[0m\n\u001b[0m\u001b[0;32m   1052\u001b[0m         \u001b[1;32mreturn\u001b[0m \u001b[0mself\u001b[0m\u001b[1;33m.\u001b[0m\u001b[0mindex\u001b[0m\u001b[1;33m.\u001b[0m\u001b[0m_get_values_for_loc\u001b[0m\u001b[1;33m(\u001b[0m\u001b[0mself\u001b[0m\u001b[1;33m,\u001b[0m \u001b[0mloc\u001b[0m\u001b[1;33m,\u001b[0m \u001b[0mlabel\u001b[0m\u001b[1;33m)\u001b[0m\u001b[1;33m\u001b[0m\u001b[1;33m\u001b[0m\u001b[0m\n\u001b[0;32m   1053\u001b[0m \u001b[1;33m\u001b[0m\u001b[0m\n",
      "\u001b[1;32mC:\\ProgramData\\Anaconda3\\lib\\site-packages\\pandas\\core\\indexes\\range.py\u001b[0m in \u001b[0;36mget_loc\u001b[1;34m(self, key, method, tolerance)\u001b[0m\n\u001b[0;32m    385\u001b[0m                     \u001b[1;32mreturn\u001b[0m \u001b[0mself\u001b[0m\u001b[1;33m.\u001b[0m\u001b[0m_range\u001b[0m\u001b[1;33m.\u001b[0m\u001b[0mindex\u001b[0m\u001b[1;33m(\u001b[0m\u001b[0mnew_key\u001b[0m\u001b[1;33m)\u001b[0m\u001b[1;33m\u001b[0m\u001b[1;33m\u001b[0m\u001b[0m\n\u001b[0;32m    386\u001b[0m                 \u001b[1;32mexcept\u001b[0m \u001b[0mValueError\u001b[0m \u001b[1;32mas\u001b[0m \u001b[0merr\u001b[0m\u001b[1;33m:\u001b[0m\u001b[1;33m\u001b[0m\u001b[1;33m\u001b[0m\u001b[0m\n\u001b[1;32m--> 387\u001b[1;33m                     \u001b[1;32mraise\u001b[0m \u001b[0mKeyError\u001b[0m\u001b[1;33m(\u001b[0m\u001b[0mkey\u001b[0m\u001b[1;33m)\u001b[0m \u001b[1;32mfrom\u001b[0m \u001b[0merr\u001b[0m\u001b[1;33m\u001b[0m\u001b[1;33m\u001b[0m\u001b[0m\n\u001b[0m\u001b[0;32m    388\u001b[0m             \u001b[1;32mraise\u001b[0m \u001b[0mKeyError\u001b[0m\u001b[1;33m(\u001b[0m\u001b[0mkey\u001b[0m\u001b[1;33m)\u001b[0m\u001b[1;33m\u001b[0m\u001b[1;33m\u001b[0m\u001b[0m\n\u001b[0;32m    389\u001b[0m         \u001b[1;32mreturn\u001b[0m \u001b[0msuper\u001b[0m\u001b[1;33m(\u001b[0m\u001b[1;33m)\u001b[0m\u001b[1;33m.\u001b[0m\u001b[0mget_loc\u001b[0m\u001b[1;33m(\u001b[0m\u001b[0mkey\u001b[0m\u001b[1;33m,\u001b[0m \u001b[0mmethod\u001b[0m\u001b[1;33m=\u001b[0m\u001b[0mmethod\u001b[0m\u001b[1;33m,\u001b[0m \u001b[0mtolerance\u001b[0m\u001b[1;33m=\u001b[0m\u001b[0mtolerance\u001b[0m\u001b[1;33m)\u001b[0m\u001b[1;33m\u001b[0m\u001b[1;33m\u001b[0m\u001b[0m\n",
      "\u001b[1;31mKeyError\u001b[0m: -1"
     ]
    }
   ],
   "source": [
    "k.str.split()[-1]\n",
    "# -ve indexing is not allowed over series"
   ]
  },
  {
   "cell_type": "code",
   "execution_count": 53,
   "id": "3a9c1d64",
   "metadata": {},
   "outputs": [
    {
     "data": {
      "text/plain": [
       "0      Patil\n",
       "1    Bhosale\n",
       "2      Desai\n",
       "dtype: object"
      ]
     },
     "execution_count": 53,
     "metadata": {},
     "output_type": "execute_result"
    }
   ],
   "source": [
    "k.apply(lambda nm:nm.split()[-1])"
   ]
  },
  {
   "cell_type": "code",
   "execution_count": 56,
   "id": "9a249c08",
   "metadata": {},
   "outputs": [
    {
     "data": {
      "text/plain": [
       "0      Patil\n",
       "1    Bhosale\n",
       "2      Desai\n",
       "dtype: object"
      ]
     },
     "execution_count": 56,
     "metadata": {},
     "output_type": "execute_result"
    }
   ],
   "source": [
    "k.map(lambda nm:nm.split()[-1])"
   ]
  },
  {
   "cell_type": "code",
   "execution_count": 57,
   "id": "7c39347f",
   "metadata": {},
   "outputs": [
    {
     "name": "stdout",
     "output_type": "stream",
     "text": [
      "Patil\n",
      "Bhosale\n",
      "Desai\n"
     ]
    }
   ],
   "source": [
    "for i in k:\n",
    "    print(i.split()[-1])"
   ]
  },
  {
   "cell_type": "code",
   "execution_count": 58,
   "id": "cdaa8e0c",
   "metadata": {},
   "outputs": [
    {
     "data": {
      "text/plain": [
       "['Patil', 'Bhosale', 'Desai']"
      ]
     },
     "execution_count": 58,
     "metadata": {},
     "output_type": "execute_result"
    }
   ],
   "source": [
    "[i.split()[-1] for i in k]"
   ]
  },
  {
   "cell_type": "code",
   "execution_count": 59,
   "id": "8ef5c433",
   "metadata": {
    "scrolled": true
   },
   "outputs": [
    {
     "data": {
      "text/plain": [
       "0      Male\n",
       "1    Female\n",
       "2    Female\n",
       "3      Male\n",
       "dtype: object"
      ]
     },
     "execution_count": 59,
     "metadata": {},
     "output_type": "execute_result"
    }
   ],
   "source": [
    "# Interview Question\n",
    "m = pd.Series(['Male','Female','Female','Male'])\n",
    "m"
   ]
  },
  {
   "cell_type": "code",
   "execution_count": 61,
   "id": "43cac205",
   "metadata": {},
   "outputs": [
    {
     "data": {
      "text/plain": [
       "array([0, 1, 1, 0])"
      ]
     },
     "execution_count": 61,
     "metadata": {},
     "output_type": "execute_result"
    }
   ],
   "source": [
    "import numpy as np\n",
    "np.where(m=='Male',0,1)\n",
    "# if its Male convert to 0 else 1"
   ]
  },
  {
   "cell_type": "code",
   "execution_count": 62,
   "id": "44054882",
   "metadata": {},
   "outputs": [
    {
     "data": {
      "text/plain": [
       "[0, 1, 1, 0]"
      ]
     },
     "execution_count": 62,
     "metadata": {},
     "output_type": "execute_result"
    }
   ],
   "source": [
    "# using list comprehension\n",
    "[0 if i =='Male' else 1 for i in m]"
   ]
  },
  {
   "cell_type": "markdown",
   "id": "0d837aff",
   "metadata": {},
   "source": [
    "### Convert Series to list"
   ]
  },
  {
   "cell_type": "code",
   "execution_count": 63,
   "id": "9a577b46",
   "metadata": {},
   "outputs": [
    {
     "data": {
      "text/plain": [
       "0    Pritam\n",
       "1     Kiran\n",
       "2     Pooja\n",
       "3    Sarang\n",
       "4     Sujit\n",
       "dtype: object"
      ]
     },
     "execution_count": 63,
     "metadata": {},
     "output_type": "execute_result"
    }
   ],
   "source": [
    "s"
   ]
  },
  {
   "cell_type": "code",
   "execution_count": 64,
   "id": "26f0a283",
   "metadata": {},
   "outputs": [
    {
     "data": {
      "text/plain": [
       "['Pritam', 'Kiran', 'Pooja', 'Sarang', 'Sujit']"
      ]
     },
     "execution_count": 64,
     "metadata": {},
     "output_type": "execute_result"
    }
   ],
   "source": [
    "list(s)"
   ]
  },
  {
   "cell_type": "code",
   "execution_count": 65,
   "id": "2817be64",
   "metadata": {},
   "outputs": [
    {
     "data": {
      "text/plain": [
       "['Pritam', 'Kiran', 'Pooja', 'Sarang', 'Sujit']"
      ]
     },
     "execution_count": 65,
     "metadata": {},
     "output_type": "execute_result"
    }
   ],
   "source": [
    "s.to_list()"
   ]
  },
  {
   "cell_type": "code",
   "execution_count": 66,
   "id": "1d01bdb3",
   "metadata": {},
   "outputs": [
    {
     "data": {
      "text/plain": [
       "{0: 'Pritam', 1: 'Kiran', 2: 'Pooja', 3: 'Sarang', 4: 'Sujit'}"
      ]
     },
     "execution_count": 66,
     "metadata": {},
     "output_type": "execute_result"
    }
   ],
   "source": [
    "s.to_dict()"
   ]
  },
  {
   "cell_type": "code",
   "execution_count": 67,
   "id": "9f4d323b",
   "metadata": {},
   "outputs": [
    {
     "data": {
      "text/plain": [
       "array(['Pritam', 'Kiran', 'Pooja', 'Sarang', 'Sujit'], dtype=object)"
      ]
     },
     "execution_count": 67,
     "metadata": {},
     "output_type": "execute_result"
    }
   ],
   "source": [
    "s.to_numpy()"
   ]
  },
  {
   "cell_type": "code",
   "execution_count": 68,
   "id": "7fc880e6",
   "metadata": {},
   "outputs": [
    {
     "data": {
      "text/plain": [
       "0    10000.00 Cr\n",
       "1     4500.00 Dr\n",
       "2     6000.00 Cr\n",
       "dtype: object"
      ]
     },
     "execution_count": 68,
     "metadata": {},
     "output_type": "execute_result"
    }
   ],
   "source": [
    "d = pd.Series(['10000.00 Cr','4500.00 Dr','6000.00 Cr'])\n",
    "d"
   ]
  },
  {
   "cell_type": "code",
   "execution_count": 69,
   "id": "7d067ce7",
   "metadata": {},
   "outputs": [
    {
     "data": {
      "text/plain": [
       "0     True\n",
       "1    False\n",
       "2     True\n",
       "dtype: bool"
      ]
     },
     "execution_count": 69,
     "metadata": {},
     "output_type": "execute_result"
    }
   ],
   "source": [
    "d.str.endswith('Cr')"
   ]
  },
  {
   "cell_type": "code",
   "execution_count": 73,
   "id": "c27fad3c",
   "metadata": {},
   "outputs": [
    {
     "data": {
      "text/plain": [
       "0    10000.00 Cr\n",
       "2     6000.00 Cr\n",
       "dtype: object"
      ]
     },
     "execution_count": 73,
     "metadata": {},
     "output_type": "execute_result"
    }
   ],
   "source": [
    "# will fetch onlu Cr entries\n",
    "d = d[d.str.endswith('Cr')]\n",
    "d"
   ]
  },
  {
   "cell_type": "code",
   "execution_count": 74,
   "id": "41aebb2e",
   "metadata": {},
   "outputs": [
    {
     "data": {
      "text/plain": [
       "0    10000.00\n",
       "2     6000.00\n",
       "dtype: object"
      ]
     },
     "execution_count": 74,
     "metadata": {},
     "output_type": "execute_result"
    }
   ],
   "source": [
    "d = d.str.strip(' Cr')\n",
    "d"
   ]
  },
  {
   "cell_type": "code",
   "execution_count": 76,
   "id": "183578d2",
   "metadata": {},
   "outputs": [
    {
     "data": {
      "text/plain": [
       "0    10000.0\n",
       "2     6000.0\n",
       "dtype: float64"
      ]
     },
     "execution_count": 76,
     "metadata": {},
     "output_type": "execute_result"
    }
   ],
   "source": [
    "#convert d from object dtype to float dtype\n",
    "d = d.astype(float)\n",
    "d"
   ]
  },
  {
   "cell_type": "code",
   "execution_count": 77,
   "id": "3a4c6b8b",
   "metadata": {},
   "outputs": [
    {
     "data": {
      "text/plain": [
       "16000.0"
      ]
     },
     "execution_count": 77,
     "metadata": {},
     "output_type": "execute_result"
    }
   ],
   "source": [
    "d.sum()"
   ]
  },
  {
   "cell_type": "code",
   "execution_count": null,
   "id": "4f22b67e",
   "metadata": {},
   "outputs": [],
   "source": []
  }
 ],
 "metadata": {
  "kernelspec": {
   "display_name": "Python 3 (ipykernel)",
   "language": "python",
   "name": "python3"
  },
  "language_info": {
   "codemirror_mode": {
    "name": "ipython",
    "version": 3
   },
   "file_extension": ".py",
   "mimetype": "text/x-python",
   "name": "python",
   "nbconvert_exporter": "python",
   "pygments_lexer": "ipython3",
   "version": "3.9.7"
  }
 },
 "nbformat": 4,
 "nbformat_minor": 5
}
